{
 "cells": [
  {
   "cell_type": "markdown",
   "metadata": {},
   "source": [
    "Python is a popular high-level programming language known for its simplicity and readability. We are going to explore a variety of programming problems in Python covering different topics such as variables, strings, typecasting, data types, loops, lists, dictionaries, and recursion. Python supports multiple programming paradigms, including object-oriented, functional, and procedural styles. Its syntax emphasizes code readability, which makes it an excellent choice for beginners and experienced developers alike. Here are 115 problems related to basic Python: (Become a Python Developer)"
   ]
  },
  {
   "cell_type": "markdown",
   "metadata": {},
   "source": [
    "# Basic Problems:"
   ]
  },
  {
   "cell_type": "markdown",
   "metadata": {},
   "source": [
    "1. Variable Swap: Write a Python program to swap the values of two variables without using a temporary variable."
   ]
  },
  {
   "cell_type": "code",
   "execution_count": 1,
   "metadata": {},
   "outputs": [
    {
     "name": "stdout",
     "output_type": "stream",
     "text": [
      "x = 6, y = 5\n"
     ]
    }
   ],
   "source": [
    "x = input(\"Input x\")\n",
    "y = input(\"Input y\")\n",
    "temp = x\n",
    "x = y\n",
    "y = temp\n",
    "print(f\"x = {x}, y = {y}\")"
   ]
  },
  {
   "cell_type": "markdown",
   "metadata": {},
   "source": [
    "2. Even or Odd: Write a Python program that takes an integer as input and prints whether it is even or odd."
   ]
  },
  {
   "cell_type": "code",
   "execution_count": 5,
   "metadata": {},
   "outputs": [
    {
     "name": "stdout",
     "output_type": "stream",
     "text": [
      "20 is a even number\n"
     ]
    }
   ],
   "source": [
    "n = int(input(\"Input a number: \"))\n",
    "if n%2 == 1:\n",
    "    print(f\"{n} is a odd number\")\n",
    "else: print(f\"{n} is a even number\")"
   ]
  },
  {
   "cell_type": "markdown",
   "metadata": {},
   "source": [
    "3. String Reverse: Write a Python function to reverse a given string and return the reversed string."
   ]
  },
  {
   "cell_type": "code",
   "execution_count": 34,
   "metadata": {},
   "outputs": [
    {
     "name": "stdout",
     "output_type": "stream",
     "text": [
      "The reversed string is: fedcba\n"
     ]
    }
   ],
   "source": [
    "def reverse(s):\n",
    "    reversed_string = \"\"\n",
    "    for x in reversed(s):\n",
    "        reversed_string = reversed_string+x\n",
    "    return reversed_string\n",
    "\n",
    "s= input(\"Input a String\")\n",
    "print(f\"The reversed string is: {reverse(s)}\")\n"
   ]
  },
  {
   "cell_type": "markdown",
   "metadata": {},
   "source": [
    "4. Type Conversion: Given a list of integers, write a Python program to convert each element of the list to a string."
   ]
  },
  {
   "cell_type": "code",
   "execution_count": 11,
   "metadata": {},
   "outputs": [
    {
     "name": "stdout",
     "output_type": "stream",
     "text": [
      "<class 'int'>\n",
      "['1', '2', '3', '4', '5']\n",
      "<class 'str'>\n"
     ]
    }
   ],
   "source": [
    "int_list = [1, 2, 3, 4, 5]\n",
    "print(type(int_list[3]))\n",
    "str_list = []\n",
    "for x in int_list:\n",
    "    str_list.append(str(x))\n",
    "print(str_list)\n",
    "print(type(str_list[3]))\n"
   ]
  },
  {
   "cell_type": "markdown",
   "metadata": {},
   "source": [
    "5. Temperature Converter: Write a Python program that converts a temperature in Celsius to Fahrenheit. Take the Celsius temperature as input from the user."
   ]
  },
  {
   "cell_type": "code",
   "execution_count": 16,
   "metadata": {},
   "outputs": [
    {
     "name": "stdout",
     "output_type": "stream",
     "text": [
      "Temperature in Fahrenheit is: 96.8°F\n"
     ]
    }
   ],
   "source": [
    "c = float(input(\"Input Temperature in Celsius\"))\n",
    "f = (9*c)/5 +32\n",
    "print(f\"Temperature in Fahrenheit is: {f}°F\")"
   ]
  },
  {
   "cell_type": "markdown",
   "metadata": {},
   "source": [
    "6. Data Type Checker: Write a Python function that takes a variable as input and returns the data type of the variable as a string (e.g., “int”, “float”, “str”, “list”, etc.)."
   ]
  },
  {
   "cell_type": "code",
   "execution_count": 24,
   "metadata": {},
   "outputs": [
    {
     "name": "stdout",
     "output_type": "stream",
     "text": [
      "Type of your variable is: str\n"
     ]
    }
   ],
   "source": [
    "def Checker(s):\n",
    "    try:\n",
    "        val = eval(s) \n",
    "        return type(val).__name__\n",
    "    except:\n",
    "        return \"str\" \n",
    "\n",
    "s = input(\"Input Something: \")\n",
    "print(f\"Type of your variable is: {Checker(s)}\")\n"
   ]
  },
  {
   "cell_type": "markdown",
   "metadata": {},
   "source": [
    "7. String Palindrome: Write a Python function to check if a given string is a palindrome or not."
   ]
  },
  {
   "cell_type": "code",
   "execution_count": 32,
   "metadata": {},
   "outputs": [
    {
     "name": "stdout",
     "output_type": "stream",
     "text": [
      "abccba is a Palindrome\n"
     ]
    }
   ],
   "source": [
    "def Palindrome(s):\n",
    "    i = 0\n",
    "    j= len(s)-1\n",
    "\n",
    "    while i<j:\n",
    "        if s[i] != s[j]:\n",
    "            return False\n",
    "        i += 1\n",
    "        j -= 1\n",
    "    return True\n",
    "s = input(\"Input a Stirng: \")\n",
    "c = Palindrome(s)\n",
    "if c == True:\n",
    "    print(f\"{s} is a Palindrome\")\n",
    "else: print(f\"{s} is not a Palindrome\")"
   ]
  },
  {
   "cell_type": "markdown",
   "metadata": {},
   "source": [
    "8. String Reversal with Slicing: Write a Python function to reverse a given string using slicing."
   ]
  },
  {
   "cell_type": "code",
   "execution_count": 12,
   "metadata": {},
   "outputs": [
    {
     "name": "stdout",
     "output_type": "stream",
     "text": [
      "The reversed string is: edcba\n"
     ]
    }
   ],
   "source": [
    "def reverse(s):\n",
    "    reversed_string = \"\"\n",
    "    for x in s[::-1]:\n",
    "        reversed_string = reversed_string+x\n",
    "    return reversed_string\n",
    "\n",
    "s= input(\"Input a String\")\n",
    "print(f\"The reversed string is: {reverse(s)}\")"
   ]
  },
  {
   "cell_type": "markdown",
   "metadata": {},
   "source": [
    "9. String Concatenation: Write a Python program that takes two strings as input and concatenates them into a single string without using the `+` operator."
   ]
  },
  {
   "cell_type": "code",
   "execution_count": 36,
   "metadata": {},
   "outputs": [
    {
     "name": "stdout",
     "output_type": "stream",
     "text": [
      "Concatenated string is RashedulIslam\n"
     ]
    }
   ],
   "source": [
    "s1 = input(\"Input First String\")\n",
    "s2 = input(\"Input Second String\")\n",
    "ans = s1+s2\n",
    "print(f\"Concatenated string is {ans}\")\n"
   ]
  },
  {
   "cell_type": "markdown",
   "metadata": {},
   "source": [
    "10. Typecasting Challenge: Given three variables: `a = ‘100’`, `b = 25`, and `c = ‘10.5’`, write a Python program to perform the following operations and print the results: – Convert `a` to an integer and add it to `b`. – Convert `c` to a float and subtract it from the result of the first operation. – Convert the final result to a string and concatenate it with the string ” is the answer.”"
   ]
  },
  {
   "cell_type": "code",
   "execution_count": 38,
   "metadata": {},
   "outputs": [
    {
     "name": "stdout",
     "output_type": "stream",
     "text": [
      "114.5 is the answer\n"
     ]
    }
   ],
   "source": [
    "a,b,c = '100' , 25, '10.5'\n",
    "summation = int(a) + b\n",
    "subtraction = summation - float(c)\n",
    "result = str(subtraction) + \" is the answer\"\n",
    "print(result)"
   ]
  },
  {
   "cell_type": "markdown",
   "metadata": {},
   "source": [
    "# Python Conditional Statements:"
   ]
  },
  {
   "cell_type": "markdown",
   "metadata": {},
   "source": [
    "11. Positive, Negative, or Zero: Write a Python program that takes a number as input and prints whether it is positive, negative, or zero."
   ]
  },
  {
   "cell_type": "code",
   "execution_count": 42,
   "metadata": {},
   "outputs": [
    {
     "name": "stdout",
     "output_type": "stream",
     "text": [
      "0.0 is Zero\n"
     ]
    }
   ],
   "source": [
    "n = float(input(\"Input a number\"))\n",
    "if n>0: print(f\"{n} is Positive\")\n",
    "elif n<0: print(f\"{n} is Negative\")\n",
    "else: print(f\"{n} is Zero\")"
   ]
  },
  {
   "cell_type": "markdown",
   "metadata": {},
   "source": [
    "12. Largest of Three Numbers: Write a Python program that takes three numbers as input and prints the largest among them."
   ]
  },
  {
   "cell_type": "code",
   "execution_count": 48,
   "metadata": {},
   "outputs": [
    {
     "name": "stdout",
     "output_type": "stream",
     "text": [
      "The largest number from -212, 95, 15 is: 95\n"
     ]
    }
   ],
   "source": [
    "a,b,c = int(input(\"Input Three number: \")), int(input()), int(input())\n",
    "print(f\"The largest number from {a}, {b}, {c} is: {(max(a,b,c))}\")"
   ]
  },
  {
   "cell_type": "markdown",
   "metadata": {},
   "source": [
    "13. Leap Year Checker: Write a Python program that takes a year as input and determines if it is a leap year or not."
   ]
  },
  {
   "cell_type": "code",
   "execution_count": 53,
   "metadata": {},
   "outputs": [
    {
     "name": "stdout",
     "output_type": "stream",
     "text": [
      "2020 is Leap Year\n"
     ]
    }
   ],
   "source": [
    "y = int(input(\"Input a year\"))\n",
    "if (y%400) == 0:\n",
    "    print(f\"{y} is Not Leap Year\")\n",
    "elif (y%4) ==0:\n",
    "    print(f\"{y} is Leap Year\")\n",
    "else: print(f\"{y} is Not Leap Year\")"
   ]
  },
  {
   "cell_type": "markdown",
   "metadata": {},
   "source": [
    "14. Grades Classification: Write a Python program that takes a student’s percentage as input and prints their corresponding grade according to the following criteria: – 90% or above: A+ – 80-89%: A – 70-79%: B – 60-69%: C – Below 60%: Fail"
   ]
  },
  {
   "cell_type": "code",
   "execution_count": 56,
   "metadata": {},
   "outputs": [
    {
     "name": "stdout",
     "output_type": "stream",
     "text": [
      "C\n"
     ]
    }
   ],
   "source": [
    "n = int(input(\"input Score\"))\n",
    "if n>=90: print(\"A+\")\n",
    "elif n>=80: print(\"A\")\n",
    "elif n>=70: print(\"B\")\n",
    "elif n>=60: print(\"C\")\n",
    "else: print(\"Fail\")"
   ]
  },
  {
   "cell_type": "markdown",
   "metadata": {},
   "source": [
    "15. Vowel or Consonant: Write a Python program that takes a single character as input and determines whether it is a vowel or a consonant."
   ]
  },
  {
   "cell_type": "code",
   "execution_count": 64,
   "metadata": {},
   "outputs": [
    {
     "name": "stdout",
     "output_type": "stream",
     "text": [
      "Z is Consonent\n"
     ]
    }
   ],
   "source": [
    "alp = input(\"Input a alphabate\")\n",
    "vowel = ['a','e','i','o','u', 'A', 'E', 'I', 'O', 'U']\n",
    "if alp in vowel:\n",
    "    print(f\"{alp} is Vowel\")\n",
    "else: print(f\"{alp} is Consonent\")"
   ]
  },
  {
   "cell_type": "markdown",
   "metadata": {},
   "source": [
    "16. Time Classification: Write a Python program that takes the time in hours (24-hour format) as input and prints “Good Morning”, “Good Afternoon”, “Good Evening”, or “Good Night” based on the time."
   ]
  },
  {
   "cell_type": "code",
   "execution_count": 63,
   "metadata": {},
   "outputs": [
    {
     "name": "stdout",
     "output_type": "stream",
     "text": [
      "Good Night\n"
     ]
    }
   ],
   "source": [
    "import datetime\n",
    "now = datetime.datetime.now()\n",
    "hour = now.hour\n",
    "\n",
    "if hour >= 17: print(\"Good Evening\")\n",
    "elif hour >= 12: print(\"Good Afternoon\")\n",
    "elif hour >= 4: print(\"Good Morning\")\n",
    "else: print(\"Good Night\")"
   ]
  },
  {
   "cell_type": "markdown",
   "metadata": {},
   "source": [
    "17. Triangle Type Checker: Write a Python program that takes three sides of a triangle as input and determines whether it forms an equilateral, isosceles, or scalene triangle."
   ]
  },
  {
   "cell_type": "code",
   "execution_count": 65,
   "metadata": {},
   "outputs": [
    {
     "name": "stdout",
     "output_type": "stream",
     "text": [
      "4.0, 4.0, 3.0 is\n",
      "Isosceles\n"
     ]
    }
   ],
   "source": [
    "a,b,c = float(input(\"Input Three sides\")), float(input()), float(input())\n",
    "print(f\"{a}, {b}, {c} is\")\n",
    "\n",
    "\n",
    "if a + b <= c or b + c <= a or a + c <= b:\n",
    "    print(\"Not a Triangle\")\n",
    "    \n",
    "else:\n",
    "    if a == b == c:\n",
    "        print(\"Equilateral\")\n",
    "    elif a != b and b != c and a != c:\n",
    "        print(\"Scalene\")\n",
    "    else:\n",
    "        print(\"Isosceles\")\n",
    "\n"
   ]
  },
  {
   "cell_type": "markdown",
   "metadata": {},
   "source": [
    "18. Quadratic Equation Solver: Write a Python program that takes the coefficients (a, b, c) of a quadratic equation as input and calculates and prints the real roots (if they exist) or a message indicating the complex roots."
   ]
  },
  {
   "cell_type": "code",
   "execution_count": null,
   "metadata": {},
   "outputs": [
    {
     "name": "stdout",
     "output_type": "stream",
     "text": [
      "The roots are complex: (-0.6666666666666666+1.1055415967851332j) and (-0.6666666666666666-1.1055415967851332j)\n"
     ]
    }
   ],
   "source": [
    "import cmath\n",
    "a, b, c = float(input()), float(input()), float(input())\n",
    "D = b**2 - 4*a*c\n",
    "\n",
    "root1 = (-b + cmath.sqrt(D)) / (2 * a)\n",
    "root2 = (-b - cmath.sqrt(D)) / (2 * a)\n",
    "\n",
    "if D < 0:\n",
    "    print(f\"The roots are complex: {root1} and {root2}\")\n",
    "elif D == 0:\n",
    "    print(f\"There is one real root: {root1.real}\")\n",
    "else:\n",
    "    print(f\"The roots are real: {root1.real} and {root2.real}\")\n"
   ]
  },
  {
   "cell_type": "markdown",
   "metadata": {},
   "source": [
    "19. Number Ranges: Write a Python program that takes an integer as input and prints whether the number falls within the ranges: 0-50, 51-100, 101-150, or above 150."
   ]
  },
  {
   "cell_type": "code",
   "execution_count": 8,
   "metadata": {},
   "outputs": [
    {
     "name": "stdout",
     "output_type": "stream",
     "text": [
      "51-100\n"
     ]
    }
   ],
   "source": [
    "n = float(input(\"Input a Number\"))\n",
    "if n>150:\n",
    "    print(\"Above 150\")\n",
    "elif n>100:\n",
    "    print(\"101-150\")\n",
    "elif n>50:\n",
    "    print(\"51-100\")\n",
    "elif n>=0:\n",
    "    print(\"0-50\")\n",
    "else: print(\"Negative number\")\n"
   ]
  },
  {
   "cell_type": "markdown",
   "metadata": {},
   "source": [
    "# For & While Loops:"
   ]
  },
  {
   "cell_type": "markdown",
   "metadata": {},
   "source": [
    "20. Sum of N Numbers: Write a Python program using a for loop to calculate the sum of the first N natural numbers, where N is taken as input from the user."
   ]
  },
  {
   "cell_type": "code",
   "execution_count": 9,
   "metadata": {},
   "outputs": [
    {
     "name": "stdout",
     "output_type": "stream",
     "text": [
      "Summation is: 6\n"
     ]
    }
   ],
   "source": [
    "n = int(input(\"Input a number: \"))\n",
    "s = 0\n",
    "for i in range(n+1):\n",
    "    s = s+i\n",
    "print(f\"Summation is: {s}\")"
   ]
  },
  {
   "cell_type": "markdown",
   "metadata": {},
   "source": [
    "21. Factorial Calculator: Write a Python program using a while loop to calculate the factorial of a given number N."
   ]
  },
  {
   "cell_type": "code",
   "execution_count": 21,
   "metadata": {},
   "outputs": [
    {
     "name": "stdout",
     "output_type": "stream",
     "text": [
      "Factorial of 6 is: 720\n"
     ]
    }
   ],
   "source": [
    "n = int(input(\"Input a Number: \"))\n",
    "store = n\n",
    "fact = 1\n",
    "while(n>1):\n",
    "    fact= n*fact\n",
    "    n-= 1\n",
    "print(f\"Factorial of {store} is: {fact}\")"
   ]
  },
  {
   "cell_type": "markdown",
   "metadata": {},
   "source": [
    "22. Table of a Number: Write a Python program using a for loop to print the multiplication table of a given number N."
   ]
  },
  {
   "cell_type": "code",
   "execution_count": 2,
   "metadata": {},
   "outputs": [
    {
     "data": {
      "text/html": [
       "<div>\n",
       "<style scoped>\n",
       "    .dataframe tbody tr th:only-of-type {\n",
       "        vertical-align: middle;\n",
       "    }\n",
       "\n",
       "    .dataframe tbody tr th {\n",
       "        vertical-align: top;\n",
       "    }\n",
       "\n",
       "    .dataframe thead th {\n",
       "        text-align: right;\n",
       "    }\n",
       "</style>\n",
       "<table border=\"1\" class=\"dataframe\">\n",
       "  <thead>\n",
       "    <tr style=\"text-align: right;\">\n",
       "      <th></th>\n",
       "      <th>Multipicand</th>\n",
       "      <th>Multiplier</th>\n",
       "      <th>Result</th>\n",
       "    </tr>\n",
       "  </thead>\n",
       "  <tbody>\n",
       "    <tr>\n",
       "      <th>0</th>\n",
       "      <td>5</td>\n",
       "      <td>1</td>\n",
       "      <td>5</td>\n",
       "    </tr>\n",
       "    <tr>\n",
       "      <th>1</th>\n",
       "      <td>5</td>\n",
       "      <td>2</td>\n",
       "      <td>10</td>\n",
       "    </tr>\n",
       "    <tr>\n",
       "      <th>2</th>\n",
       "      <td>5</td>\n",
       "      <td>3</td>\n",
       "      <td>15</td>\n",
       "    </tr>\n",
       "    <tr>\n",
       "      <th>3</th>\n",
       "      <td>5</td>\n",
       "      <td>4</td>\n",
       "      <td>20</td>\n",
       "    </tr>\n",
       "    <tr>\n",
       "      <th>4</th>\n",
       "      <td>5</td>\n",
       "      <td>5</td>\n",
       "      <td>25</td>\n",
       "    </tr>\n",
       "    <tr>\n",
       "      <th>5</th>\n",
       "      <td>5</td>\n",
       "      <td>6</td>\n",
       "      <td>30</td>\n",
       "    </tr>\n",
       "    <tr>\n",
       "      <th>6</th>\n",
       "      <td>5</td>\n",
       "      <td>7</td>\n",
       "      <td>35</td>\n",
       "    </tr>\n",
       "    <tr>\n",
       "      <th>7</th>\n",
       "      <td>5</td>\n",
       "      <td>8</td>\n",
       "      <td>40</td>\n",
       "    </tr>\n",
       "    <tr>\n",
       "      <th>8</th>\n",
       "      <td>5</td>\n",
       "      <td>9</td>\n",
       "      <td>45</td>\n",
       "    </tr>\n",
       "    <tr>\n",
       "      <th>9</th>\n",
       "      <td>5</td>\n",
       "      <td>10</td>\n",
       "      <td>50</td>\n",
       "    </tr>\n",
       "  </tbody>\n",
       "</table>\n",
       "</div>"
      ],
      "text/plain": [
       "   Multipicand  Multiplier  Result\n",
       "0            5           1       5\n",
       "1            5           2      10\n",
       "2            5           3      15\n",
       "3            5           4      20\n",
       "4            5           5      25\n",
       "5            5           6      30\n",
       "6            5           7      35\n",
       "7            5           8      40\n",
       "8            5           9      45\n",
       "9            5          10      50"
      ]
     },
     "execution_count": 2,
     "metadata": {},
     "output_type": "execute_result"
    }
   ],
   "source": [
    "import pandas as pd\n",
    "n = int(input(\"Input a Number: \"))\n",
    "table = {\n",
    "\"Multipicand\" : n ,\n",
    "\"Multiplier\" : [i for i in range(1,11)],\n",
    "\"Result\" : [n*i for i in range(1,11)]\n",
    "}\n",
    "df = pd.DataFrame(table)\n",
    "df"
   ]
  },
  {
   "cell_type": "markdown",
   "metadata": {},
   "source": [
    "23. Count Digits in a Number: Write a Python program using a while loop to count the number of digits in a given integer N."
   ]
  },
  {
   "cell_type": "code",
   "execution_count": 35,
   "metadata": {},
   "outputs": [
    {
     "name": "stdout",
     "output_type": "stream",
     "text": [
      "Number of digits in 512 is 3\n"
     ]
    }
   ],
   "source": [
    "n = int(input(\"Input a Number: \"))\n",
    "m,c = 1,0\n",
    "while(m<n):\n",
    "    m *= 10\n",
    "    c += 1\n",
    "print(f\"Number of digits in {n} is {c}\")"
   ]
  },
  {
   "cell_type": "markdown",
   "metadata": {},
   "source": [
    "24. Fibonacci Sequence: Write a Python program using a for loop to generate the Fibonacci sequence up to a given limit N."
   ]
  },
  {
   "cell_type": "code",
   "execution_count": 46,
   "metadata": {},
   "outputs": [
    {
     "name": "stdout",
     "output_type": "stream",
     "text": [
      "0 1 1 2 3 5 8 13 21 34 55 89 144 233 377 610 987 1597 2584 4181 "
     ]
    }
   ],
   "source": [
    "n = int(input(\"Input a Number: \"))\n",
    "if n == 1: print(0)\n",
    "else: print(\"0 1\",end =\" \")\n",
    "\n",
    "pre =0\n",
    "nex =1\n",
    "add =0\n",
    "for i in range(2,n):\n",
    "    add = pre + nex\n",
    "    print(add, end=\" \")\n",
    "    pre = nex\n",
    "    nex = add\n"
   ]
  },
  {
   "cell_type": "markdown",
   "metadata": {},
   "source": [
    "25. Sum of Even Numbers: Write a Python program using a while loop to calculate the sum of all even numbers between 1 and N, where N is taken as input from the user."
   ]
  },
  {
   "cell_type": "code",
   "execution_count": 47,
   "metadata": {},
   "outputs": [
    {
     "name": "stdout",
     "output_type": "stream",
     "text": [
      "Summation of even numbers between 1 to 10 is: 30\n"
     ]
    }
   ],
   "source": [
    "n = int(input(\"Input a Number: \"))\n",
    "m = 2\n",
    "add = 0\n",
    "while (m<=n):\n",
    "    add = add+m\n",
    "    m += 2\n",
    "print(f\"Summation of even numbers between 1 to {n} is: {add}\")\n"
   ]
  },
  {
   "cell_type": "markdown",
   "metadata": {},
   "source": [
    "26. Print Patterns: Write a Python program using nested for loops to print various patterns, such as a right-angled triangle, an inverted right-angled triangle, and so on."
   ]
  },
  {
   "cell_type": "code",
   "execution_count": 71,
   "metadata": {},
   "outputs": [
    {
     "name": "stdout",
     "output_type": "stream",
     "text": [
      "Diamond Using nested loop:\n",
      "\n",
      "     * \n",
      "    * * \n",
      "   * * * \n",
      "  * * * * \n",
      " * * * * * \n",
      "  * * * * \n",
      "   * * * \n",
      "    * * \n",
      "     * \n",
      "Diamono without nested Loop\n",
      "    *\n",
      "   ***\n",
      "  *****\n",
      " *******\n",
      "*********\n",
      " *******\n",
      "  *****\n",
      "   ***\n",
      "    *\n",
      "ButterFly\n",
      "*        *\n",
      "**      **\n",
      "***    ***\n",
      "****  ****\n",
      "**********\n",
      "****  ****\n",
      "***    ***\n",
      "**      **\n",
      "*        *\n"
     ]
    }
   ],
   "source": [
    "n = int(input(\"Input a Number: \"))\n",
    "print(\"Diamond Using nested loop:\")\n",
    "for i in range(n-1):\n",
    "    print()\n",
    "    for j in range(n-i):\n",
    "        print(end=\" \")\n",
    "    for j in range(i+1):\n",
    "        print(\"*\",end=\" \")\n",
    "\n",
    "for i in range(n):\n",
    "    print()\n",
    "    for j in range(i+1):\n",
    "        print(end=\" \")\n",
    "    for j in range(n-i):\n",
    "        print(\"*\",end=\" \")\n",
    "    \n",
    "print()\n",
    "print(\"Diamono without nested Loop\")\n",
    "for i in range(1, n + 1):\n",
    "    print(\" \" * (n - i) + \"*\" * (2 * i - 1))\n",
    "for i in range(n - 1, 0, -1):\n",
    "    print(\" \" * (n - i) + \"*\" * (2 * i - 1))\n",
    "\n",
    "print(\"ButterFly\")\n",
    "\n",
    "for i in range(1, n + 1):\n",
    "    print(\"*\" * i + \" \" * (2 * (n - i)) + \"*\" * i)\n",
    "\n",
    "for i in range(n - 1, 0, -1):\n",
    "    print(\"*\" * i + \" \" * (2 * (n - i)) + \"*\" * i)\n"
   ]
  },
  {
   "cell_type": "markdown",
   "metadata": {},
   "source": [
    "27. Prime Number Checker: Write a Python program using a while loop to check if a given number N is prime or not."
   ]
  },
  {
   "cell_type": "code",
   "execution_count": 7,
   "metadata": {},
   "outputs": [
    {
     "name": "stdout",
     "output_type": "stream",
     "text": [
      "53 is Prime\n"
     ]
    }
   ],
   "source": [
    "n = int(input(\"Input a Number: \"))\n",
    "m =2\n",
    "flag = 0\n",
    "c=0\n",
    "\n",
    "if n ==0 or n==1:\n",
    "    print(f\"{n} is Not Prime\")\n",
    "    \n",
    "elif n==2:\n",
    "     print(f\"{n} is Prime\")\n",
    "     \n",
    "      \n",
    "else:\n",
    "    while(m< n**0.5+1 ):\n",
    "        if(n%m == 0):\n",
    "            print (f\"{n} is Not Prime\")\n",
    "            flag = 1\n",
    "            break\n",
    "        m +=1\n",
    "    if flag == 0:\n",
    "        print(f\"{n} is Prime\")      "
   ]
  },
  {
   "cell_type": "markdown",
   "metadata": {},
   "source": [
    "28. List Manipulation: Given a list of integers, write a Python program using a for loop to find the sum, average, maximum, and minimum values in the"
   ]
  },
  {
   "cell_type": "code",
   "execution_count": 12,
   "metadata": {},
   "outputs": [
    {
     "name": "stdout",
     "output_type": "stream",
     "text": [
      "Summation is: 420\n",
      "Maximum is: 90\n",
      "Minimun is: 45\n"
     ]
    }
   ],
   "source": [
    "l = [50, 60, 50, 75, 45, 90, 50]\n",
    "add=0\n",
    "maxi = l[0]\n",
    "mini = l[0]\n",
    "for x in l:\n",
    "    add = add + x\n",
    "    if x> maxi:\n",
    "        maxi = x\n",
    "    if x<mini:\n",
    "        mini =x\n",
    "print(f\"Summation is: {add}\\nMaximum is: {maxi}\\nMinimun is: {mini}\")\n"
   ]
  },
  {
   "cell_type": "markdown",
   "metadata": {},
   "source": [
    "29. Reverse String: Write a Python program using a while loop to reverse a given string."
   ]
  },
  {
   "cell_type": "code",
   "execution_count": 1,
   "metadata": {},
   "outputs": [
    {
     "name": "stdout",
     "output_type": "stream",
     "text": [
      "Reverse of abcdef is: fedcba"
     ]
    }
   ],
   "source": [
    "s = input(\"Input a String: \")\n",
    "n = len(s)\n",
    "print(f\"Reverse of {s} is\" ,end=\": \")\n",
    "while(n>0):\n",
    "    n-=1\n",
    "    print(s[n], end=\"\")"
   ]
  },
  {
   "cell_type": "markdown",
   "metadata": {},
   "source": [
    "# Nested Loops:"
   ]
  },
  {
   "cell_type": "markdown",
   "metadata": {},
   "source": [
    "30. Multiplication Table: Write a Python program using nested loops to print the multiplication table from 1 to 10."
   ]
  },
  {
   "cell_type": "code",
   "execution_count": 6,
   "metadata": {},
   "outputs": [
    {
     "name": "stdout",
     "output_type": "stream",
     "text": [
      "\n",
      "M   M   R\n",
      "1 * 1 = 1\n",
      "1 * 2 = 2\n",
      "1 * 3 = 3\n",
      "1 * 4 = 4\n",
      "1 * 5 = 5\n",
      "1 * 6 = 6\n",
      "1 * 7 = 7\n",
      "1 * 8 = 8\n",
      "1 * 9 = 9\n",
      "1 * 10 = 10\n",
      "\n",
      "M   M   R\n",
      "2 * 1 = 2\n",
      "2 * 2 = 4\n",
      "2 * 3 = 6\n",
      "2 * 4 = 8\n",
      "2 * 5 = 10\n",
      "2 * 6 = 12\n",
      "2 * 7 = 14\n",
      "2 * 8 = 16\n",
      "2 * 9 = 18\n",
      "2 * 10 = 20\n",
      "\n",
      "M   M   R\n",
      "3 * 1 = 3\n",
      "3 * 2 = 6\n",
      "3 * 3 = 9\n",
      "3 * 4 = 12\n",
      "3 * 5 = 15\n",
      "3 * 6 = 18\n",
      "3 * 7 = 21\n",
      "3 * 8 = 24\n",
      "3 * 9 = 27\n",
      "3 * 10 = 30\n",
      "\n",
      "M   M   R\n",
      "4 * 1 = 4\n",
      "4 * 2 = 8\n",
      "4 * 3 = 12\n",
      "4 * 4 = 16\n",
      "4 * 5 = 20\n",
      "4 * 6 = 24\n",
      "4 * 7 = 28\n",
      "4 * 8 = 32\n",
      "4 * 9 = 36\n",
      "4 * 10 = 40\n",
      "\n",
      "M   M   R\n",
      "5 * 1 = 5\n",
      "5 * 2 = 10\n",
      "5 * 3 = 15\n",
      "5 * 4 = 20\n",
      "5 * 5 = 25\n",
      "5 * 6 = 30\n",
      "5 * 7 = 35\n",
      "5 * 8 = 40\n",
      "5 * 9 = 45\n",
      "5 * 10 = 50\n",
      "\n",
      "M   M   R\n",
      "6 * 1 = 6\n",
      "6 * 2 = 12\n",
      "6 * 3 = 18\n",
      "6 * 4 = 24\n",
      "6 * 5 = 30\n",
      "6 * 6 = 36\n",
      "6 * 7 = 42\n",
      "6 * 8 = 48\n",
      "6 * 9 = 54\n",
      "6 * 10 = 60\n",
      "\n",
      "M   M   R\n",
      "7 * 1 = 7\n",
      "7 * 2 = 14\n",
      "7 * 3 = 21\n",
      "7 * 4 = 28\n",
      "7 * 5 = 35\n",
      "7 * 6 = 42\n",
      "7 * 7 = 49\n",
      "7 * 8 = 56\n",
      "7 * 9 = 63\n",
      "7 * 10 = 70\n",
      "\n",
      "M   M   R\n",
      "8 * 1 = 8\n",
      "8 * 2 = 16\n",
      "8 * 3 = 24\n",
      "8 * 4 = 32\n",
      "8 * 5 = 40\n",
      "8 * 6 = 48\n",
      "8 * 7 = 56\n",
      "8 * 8 = 64\n",
      "8 * 9 = 72\n",
      "8 * 10 = 80\n",
      "\n",
      "M   M   R\n",
      "9 * 1 = 9\n",
      "9 * 2 = 18\n",
      "9 * 3 = 27\n",
      "9 * 4 = 36\n",
      "9 * 5 = 45\n",
      "9 * 6 = 54\n",
      "9 * 7 = 63\n",
      "9 * 8 = 72\n",
      "9 * 9 = 81\n",
      "9 * 10 = 90\n",
      "\n",
      "M   M   R\n",
      "10 * 1 = 10\n",
      "10 * 2 = 20\n",
      "10 * 3 = 30\n",
      "10 * 4 = 40\n",
      "10 * 5 = 50\n",
      "10 * 6 = 60\n",
      "10 * 7 = 70\n",
      "10 * 8 = 80\n",
      "10 * 9 = 90\n",
      "10 * 10 = 100\n"
     ]
    }
   ],
   "source": [
    "for i in range (1,11):\n",
    "    print()\n",
    "    print(\"M   M   R\")\n",
    "    for j in range(1,11):\n",
    "        print(f\"{i} * {j} = {i*j}\")"
   ]
  },
  {
   "cell_type": "markdown",
   "metadata": {},
   "source": [
    "31. Print Patterns: Write a Python program using nested loops to print the following pattern:\n",
    "```\n",
    "*\n",
    "**\n",
    "***\n",
    "****\n",
    "*****\n",
    "```\n"
   ]
  },
  {
   "cell_type": "code",
   "execution_count": 10,
   "metadata": {},
   "outputs": [
    {
     "name": "stdout",
     "output_type": "stream",
     "text": [
      "\n",
      "*\n",
      "**\n",
      "***\n",
      "****\n",
      "*****"
     ]
    }
   ],
   "source": [
    "for i in range(5):\n",
    "    print()\n",
    "    for j in range (i+1):\n",
    "        print(\"*\",end=\"\")"
   ]
  },
  {
   "cell_type": "markdown",
   "metadata": {},
   "source": [
    "32. Matrix Multiplication: Write a Python program using nested loops to multiply two matrices."
   ]
  },
  {
   "cell_type": "code",
   "execution_count": 86,
   "metadata": {},
   "outputs": [
    {
     "name": "stdout",
     "output_type": "stream",
     "text": [
      "[44, 35, 63, 34]\n",
      "[54, 43, 54, 37]\n",
      "[129, 104, 168, 95]\n"
     ]
    }
   ],
   "source": [
    "m1 = [\n",
    "    [1, 2, 3, 4],\n",
    "    [3, 4, 2, 1],\n",
    "    [5, 6, 7, 9]\n",
    "]\n",
    "\n",
    "m2 = [\n",
    "    [9, 8, 7, 4],\n",
    "    [2, 1, 4, 5],\n",
    "    [9, 7, 4, 0],\n",
    "    [1, 1, 9, 5]\n",
    "]\n",
    "\n",
    "if(len(m1[0]) != len(m2)):\n",
    "    print(\"Multipication is not possible\")\n",
    "\n",
    "result = [[0] * len(m2[0]) for _ in range(len(m1))]\n",
    "\n",
    "for i in range(len(m1)): \n",
    "    for j in range(len(m2[0])): \n",
    "        for k in range(len(m1[0])): \n",
    "            result[i][j] += m1[i][k] * m2[k][j]\n",
    "\n",
    "for row in result:\n",
    "    print(row)\n"
   ]
  },
  {
   "cell_type": "markdown",
   "metadata": {},
   "source": [
    "33. Chessboard Pattern: Write a Python program using nested loops to print a chessboard pattern (alternating “X” and “O” characters) of size 8×8"
   ]
  },
  {
   "cell_type": "code",
   "execution_count": 3,
   "metadata": {},
   "outputs": [
    {
     "name": "stdout",
     "output_type": "stream",
     "text": [
      "\n",
      "O X O X O X O X \n",
      "X O X O X O X O \n",
      "O X O X O X O X \n",
      "X O X O X O X O \n",
      "O X O X O X O X \n",
      "X O X O X O X O \n",
      "O X O X O X O X \n",
      "X O X O X O X O "
     ]
    }
   ],
   "source": [
    "f = 0\n",
    "for _ in range(8):\n",
    "    print()\n",
    "    f += 1\n",
    "    for _ in range(8):\n",
    "        f += 1\n",
    "        print(\"O\",end=\" \") if f%2 ==0 else print(\"X\",end=\" \")"
   ]
  },
  {
   "cell_type": "markdown",
   "metadata": {},
   "source": [
    "34. Number Pyramid: Write a Python program using nested loops to print a number pyramid like the following: 1 22 333 4444 55555"
   ]
  },
  {
   "cell_type": "code",
   "execution_count": 12,
   "metadata": {},
   "outputs": [
    {
     "name": "stdout",
     "output_type": "stream",
     "text": [
      "\n",
      "    1 \n",
      "   2 2 \n",
      "  3 3 3 \n",
      " 4 4 4 4 \n",
      "5 5 5 5 5 "
     ]
    }
   ],
   "source": [
    "for i in range(1,6):\n",
    "    print()\n",
    "    print(end=\" \"*(5-i))\n",
    "    for j in range(i):\n",
    "        print(i, end=\" \")"
   ]
  },
  {
   "cell_type": "markdown",
   "metadata": {},
   "source": [
    "# List Problems:"
   ]
  },
  {
   "cell_type": "markdown",
   "metadata": {},
   "source": [
    "34. List Sum: Write a Python program to find the sum of all elements in a given list of integers."
   ]
  },
  {
   "cell_type": "code",
   "execution_count": 25,
   "metadata": {},
   "outputs": [
    {
     "name": "stdout",
     "output_type": "stream",
     "text": [
      "Summation:  7810\n"
     ]
    }
   ],
   "source": [
    "l = [512, 715, 910, 1550, 67, 840, 565, 945, 120, 428, 527, 631]\n",
    "print(\"Summation: \",sum(l))"
   ]
  },
  {
   "cell_type": "markdown",
   "metadata": {},
   "source": [
    "35. List Average: Write a Python program to calculate the average of all elements in a given list of integers."
   ]
  },
  {
   "cell_type": "code",
   "execution_count": 26,
   "metadata": {},
   "outputs": [
    {
     "name": "stdout",
     "output_type": "stream",
     "text": [
      "Average:  650.8333333333334\n"
     ]
    }
   ],
   "source": [
    "l = [512, 715, 910, 1550, 67, 840, 565, 945, 120, 428, 527, 631]\n",
    "print(\"Average: \",sum(l)/len(l))"
   ]
  },
  {
   "cell_type": "markdown",
   "metadata": {},
   "source": [
    "36. List Max and Min: Write a Python program to find the maximum and minimum values in a given list of integers."
   ]
  },
  {
   "cell_type": "code",
   "execution_count": 28,
   "metadata": {},
   "outputs": [
    {
     "name": "stdout",
     "output_type": "stream",
     "text": [
      "Maximum:  1550\n",
      "minimum:  67\n"
     ]
    }
   ],
   "source": [
    "l = [512, 715, 910, 1550, 67, 840, 565, 945, 120, 428, 527, 631]\n",
    "print(\"Maximum: \",max(l))\n",
    "print(\"minimum: \",min(l))"
   ]
  },
  {
   "cell_type": "markdown",
   "metadata": {},
   "source": [
    "37. List Sorting: Write a Python program to sort a list of integers in ascending order."
   ]
  },
  {
   "cell_type": "code",
   "execution_count": 29,
   "metadata": {},
   "outputs": [
    {
     "name": "stdout",
     "output_type": "stream",
     "text": [
      "[67, 120, 428, 512, 527, 565, 631, 715, 840, 910, 945, 1550]\n"
     ]
    }
   ],
   "source": [
    "l = [512, 715, 910, 1550, 67, 840, 565, 945, 120, 428, 527, 631]\n",
    "l.sort()\n",
    "print(l)"
   ]
  },
  {
   "cell_type": "markdown",
   "metadata": {},
   "source": [
    "38. List Filtering: Given a list of integers, write a Python program to create a new list that contains only the even numbers from the original list."
   ]
  },
  {
   "cell_type": "code",
   "execution_count": 30,
   "metadata": {},
   "outputs": [
    {
     "name": "stdout",
     "output_type": "stream",
     "text": [
      "[512, 910, 1550, 840, 120, 428]\n"
     ]
    }
   ],
   "source": [
    "l = [512, 715, 910, 1550, 67, 840, 565, 945, 120, 428, 527, 631]\n",
    "new_l = list(filter(lambda x: x%2==0,l))\n",
    "print(new_l)"
   ]
  },
  {
   "cell_type": "markdown",
   "metadata": {},
   "source": [
    "39. List Reversal: Write a Python program to reverse a given list without using any built-in functions."
   ]
  },
  {
   "cell_type": "code",
   "execution_count": 31,
   "metadata": {},
   "outputs": [
    {
     "name": "stdout",
     "output_type": "stream",
     "text": [
      "[631, 527, 428, 120, 945, 565, 840, 67, 1550, 910, 715, 512]\n"
     ]
    }
   ],
   "source": [
    "l = [512, 715, 910, 1550, 67, 840, 565, 945, 120, 428, 527, 631]\n",
    "new_l = []\n",
    "for x in reversed(l):\n",
    "    new_l.append(x)\n",
    "l =new_l\n",
    "print(l)"
   ]
  },
  {
   "cell_type": "markdown",
   "metadata": {},
   "source": [
    "40. List Manipulation: Given two lists of integers, write a Python program to create a new list that contains elements common to both lists."
   ]
  },
  {
   "cell_type": "code",
   "execution_count": 32,
   "metadata": {},
   "outputs": [
    {
     "name": "stdout",
     "output_type": "stream",
     "text": [
      "[512, 67, 840, 120]\n"
     ]
    }
   ],
   "source": [
    "l = [512, 715, 910, 1550, 67, 840, 565, 945, 120, 428, 527, 631]\n",
    "l2= [512, 610, 915, 23, 67, 840, 550, 120, 615]\n",
    "new_l = list(filter( lambda x: x in l2, l))\n",
    "print(new_l)"
   ]
  },
  {
   "cell_type": "markdown",
   "metadata": {},
   "source": [
    "41. List Element Count: Write a Python program to count the occurrences of a specific element in a given list."
   ]
  },
  {
   "cell_type": "code",
   "execution_count": 41,
   "metadata": {},
   "outputs": [
    {
     "name": "stdout",
     "output_type": "stream",
     "text": [
      "Occurrence of 45 is: 4\n"
     ]
    }
   ],
   "source": [
    "l = input(\"Elements of list(using space): \").split()\n",
    "n = input(\"The number for count: \")\n",
    "c = l.count(n)\n",
    "print(f\"Occurrence of {n} is: {c}\")"
   ]
  },
  {
   "cell_type": "markdown",
   "metadata": {},
   "source": [
    "42. List Duplicates Removal: Write a Python program to remove duplicates from a given list while preserving the order of the elements."
   ]
  },
  {
   "cell_type": "code",
   "execution_count": 46,
   "metadata": {},
   "outputs": [
    {
     "name": "stdout",
     "output_type": "stream",
     "text": [
      "[512, 715, 910, 1550, 67, 840, 565, 945, 120, 428, 527, 631]\n"
     ]
    }
   ],
   "source": [
    "l = [512, 512, 512, 715, 910, 1550, 67, 840, 565, 945, 120, 67, 428, 527, 631, 910]\n",
    "new_l = []\n",
    "for x in l:\n",
    "    if x in new_l:\n",
    "        continue\n",
    "    else: new_l.append(x)\n",
    "l = new_l\n",
    "print(l)\n"
   ]
  },
  {
   "cell_type": "markdown",
   "metadata": {},
   "source": [
    "43. List Comprehension: Given a list of integers, write a Python program to create a new list that contains the squares of the elements using list comprehension."
   ]
  },
  {
   "cell_type": "code",
   "execution_count": 47,
   "metadata": {},
   "outputs": [
    {
     "name": "stdout",
     "output_type": "stream",
     "text": [
      "[9, 4, 1, 64, 121, 100, 49, 0, 225, 361, 144, 4489, 16, 25, 36, 81]\n"
     ]
    }
   ],
   "source": [
    "l = [3, 2, 1, 8, 11, 10, 7, 0, 15, 19, 12, 67, 4, 5, 6, 9]\n",
    "new_l = [x**2 for x in l]\n",
    "print(new_l)"
   ]
  },
  {
   "cell_type": "markdown",
   "metadata": {},
   "source": [
    "# Nested List Problems:"
   ]
  },
  {
   "cell_type": "markdown",
   "metadata": {},
   "source": [
    "44. Matrix Addition: Write a Python program to add two matrices represented as nested lists."
   ]
  },
  {
   "cell_type": "code",
   "execution_count": 50,
   "metadata": {},
   "outputs": [
    {
     "name": "stdout",
     "output_type": "stream",
     "text": [
      "[10, 10, 10, 8]\n",
      "[5, 5, 6, 6]\n",
      "[14, 13, 11, 9]\n"
     ]
    }
   ],
   "source": [
    "m1 = [\n",
    "    [1, 2, 3, 4],\n",
    "    [3, 4, 2, 1],\n",
    "    [5, 6, 7, 9]\n",
    "]\n",
    "\n",
    "m2 = [\n",
    "    [9, 8, 7, 4],\n",
    "    [2, 1, 4, 5],\n",
    "    [9, 7, 4, 0]\n",
    "]\n",
    "m3 = [[0]*len(m1[0]) for _ in range(len(m1))]\n",
    "\n",
    "for i in range(len(m1)):\n",
    "    for j in range(len(m1[0])):\n",
    "        m3[i][j] = m1[i][j] + m2[i][j]\n",
    "for row in m3:\n",
    "    print(row)\n"
   ]
  },
  {
   "cell_type": "markdown",
   "metadata": {},
   "source": [
    "45. Flatten Nested List: Write a Python program to flatten a given nested list and convert it into a single-dimensional list."
   ]
  },
  {
   "cell_type": "code",
   "execution_count": 13,
   "metadata": {},
   "outputs": [
    {
     "name": "stdout",
     "output_type": "stream",
     "text": [
      "Flattened List: [1, 2, 3, 4, 5, 6, 7, 8, 9]\n"
     ]
    }
   ],
   "source": [
    "def flatten(nested):\n",
    "    result = []\n",
    "    for item in nested:\n",
    "        if isinstance(item, list):  \n",
    "            result.extend(flatten(item)) \n",
    "        else:\n",
    "            result.append(item)\n",
    "    return result\n",
    "\n",
    "nested = [[1, [2, [3, 4], 5]], 6, [[7, 8], 9]]\n",
    "print(\"Flattened List:\", flatten(nested))\n",
    "\n",
    "\n"
   ]
  },
  {
   "cell_type": "markdown",
   "metadata": {},
   "source": [
    "46. List Element Frequency: Given a nested list containing lists of integers, write a Python program to count the frequency of each element in the entire nested list."
   ]
  },
  {
   "cell_type": "code",
   "execution_count": 16,
   "metadata": {},
   "outputs": [
    {
     "name": "stdout",
     "output_type": "stream",
     "text": [
      "Frequency of 1 is: 1\n",
      "Frequency of 8 is: 2\n",
      "Frequency of 2 is: 3\n",
      "Frequency of 3 is: 1\n",
      "Frequency of 4 is: 1\n",
      "Frequency of 5 is: 1\n",
      "Frequency of 6 is: 1\n",
      "Frequency of 7 is: 1\n",
      "Frequency of 9 is: 1\n"
     ]
    }
   ],
   "source": [
    "def flatten(nested):\n",
    "    result = []\n",
    "    for item in nested:\n",
    "        if isinstance(item, list):  \n",
    "            result.extend(flatten(item)) \n",
    "        else:\n",
    "            result.append(item)\n",
    "    return result\n",
    "\n",
    "nested = [[1, 8, [2, [3, 2, 4], 5]], 6, [[7, 2, 8], 9]]\n",
    "flat = flatten(nested)\n",
    "\n",
    "dic = {}\n",
    "for x in flat:\n",
    "    if x in dic:\n",
    "        dic[x] += 1\n",
    "    else: dic[x] = 1\n",
    "for x in dic:\n",
    "    print(f\"Frequency of {x} is: {dic[x]}\")"
   ]
  },
  {
   "cell_type": "markdown",
   "metadata": {},
   "source": [
    "47. Transpose Matrix: Write a Python program to transpose a given matrix represented as a nested list."
   ]
  },
  {
   "cell_type": "code",
   "execution_count": 19,
   "metadata": {},
   "outputs": [
    {
     "name": "stdout",
     "output_type": "stream",
     "text": [
      "[1, 3, 5]\n",
      "[2, 4, 6]\n",
      "[3, 2, 7]\n",
      "[4, 1, 9]\n"
     ]
    }
   ],
   "source": [
    "m = [\n",
    "    [1, 2, 3, 4],\n",
    "    [3, 4, 2, 1],\n",
    "    [5, 6, 7, 9]\n",
    "]\n",
    "\n",
    "tm = [[0]*len(m) for _ in range(len(m[0]))]\n",
    "\n",
    "for i in range(len(m)):\n",
    "    for j in range(len(m[0])):\n",
    "        tm[j][i] = m[i][j]\n",
    "for row in tm:\n",
    "    print(row)"
   ]
  },
  {
   "cell_type": "markdown",
   "metadata": {},
   "source": [
    "48. List of Lists Concatenation: Given a list of nested lists, write a Python program to concatenate all the sublists into a single flat list."
   ]
  },
  {
   "cell_type": "code",
   "execution_count": 20,
   "metadata": {},
   "outputs": [
    {
     "name": "stdout",
     "output_type": "stream",
     "text": [
      "Flattened List: [1, 2, 3, 4, 5, 6, 7, 8, 9]\n"
     ]
    }
   ],
   "source": [
    "def flatten(nested):\n",
    "    result = []\n",
    "    for item in nested:\n",
    "        if isinstance(item, list):  \n",
    "            result.extend(flatten(item)) \n",
    "        else:\n",
    "            result.append(item)\n",
    "    return result\n",
    "\n",
    "nested =  [[1, 2, 3], [4, 5], [6, 7, 8], [9]]\n",
    "print(\"Flattened List:\", flatten(nested))\n"
   ]
  },
  {
   "cell_type": "markdown",
   "metadata": {},
   "source": [
    "# Tuple Problems:"
   ]
  },
  {
   "cell_type": "markdown",
   "metadata": {},
   "source": [
    "49. Tuple Concatenation: Write a Python program to concatenate two tuples and create a new tuple."
   ]
  },
  {
   "cell_type": "code",
   "execution_count": 22,
   "metadata": {},
   "outputs": [
    {
     "name": "stdout",
     "output_type": "stream",
     "text": [
      "('2', '5', '6', '9', '4', '2', '9', '3')\n"
     ]
    }
   ],
   "source": [
    "a = input(\"Enter First touple elements separated by spaces: \").split()\n",
    "b = input(\"Enter Second touple elements separated by spaces: \").split()\n",
    "\n",
    "t1 = tuple(a)\n",
    "t2 = tuple(b)\n",
    "\n",
    "new_t = t1+t2\n",
    "print(new_t)"
   ]
  },
  {
   "cell_type": "markdown",
   "metadata": {},
   "source": [
    "50. Tuple Unpacking: Given a tuple with three elements (x, y, z), write a Python program to unpack the tuple and assign the values to three variables."
   ]
  },
  {
   "cell_type": "code",
   "execution_count": 24,
   "metadata": {},
   "outputs": [
    {
     "name": "stdout",
     "output_type": "stream",
     "text": [
      "a = x, b = y, c = z\n"
     ]
    }
   ],
   "source": [
    "t = ('x', 'y', 'z')\n",
    "(a , b , c) = t\n",
    "print(f\"a = {a}, b = {b}, c = {c}\")\n"
   ]
  },
  {
   "cell_type": "markdown",
   "metadata": {},
   "source": [
    "51. Tuple Sorting: Write a Python program to sort a tuple of integers in ascending order."
   ]
  },
  {
   "cell_type": "code",
   "execution_count": 29,
   "metadata": {},
   "outputs": [
    {
     "data": {
      "text/plain": [
       "[1, 2, 3, 4, 5, 5, 7, 9]"
      ]
     },
     "execution_count": 29,
     "metadata": {},
     "output_type": "execute_result"
    }
   ],
   "source": [
    "t = (9, 4, 7, 1, 5 , 2 , 3, 5)\n",
    "t= sorted(t)\n",
    "t\n"
   ]
  },
  {
   "cell_type": "markdown",
   "metadata": {},
   "source": [
    "52. Tuple Frequency Count: Given a tuple containing various elements, write a Python program to count the frequency of a specific element in the tuple."
   ]
  },
  {
   "cell_type": "code",
   "execution_count": 32,
   "metadata": {},
   "outputs": [
    {
     "name": "stdout",
     "output_type": "stream",
     "text": [
      "Frequency of 2 is: 4\n"
     ]
    }
   ],
   "source": [
    "a = input(\"Enter touple elements separated by spaces: \").split()\n",
    "t = tuple(a)\n",
    "n = input(\"Input Specific Element: \")\n",
    "print(f\"Frequency of {n} is: {t.count(n)}\")"
   ]
  },
  {
   "cell_type": "markdown",
   "metadata": {},
   "source": [
    "53. Tuple to List: Write a Python program to convert a tuple into a list."
   ]
  },
  {
   "cell_type": "code",
   "execution_count": 33,
   "metadata": {},
   "outputs": [
    {
     "name": "stdout",
     "output_type": "stream",
     "text": [
      "[9, 4, 7, 1, 5, 2, 3, 5]\n"
     ]
    }
   ],
   "source": [
    "t = (9, 4, 7, 1, 5 , 2 , 3, 5)\n",
    "l =list(t)\n",
    "print(l)"
   ]
  },
  {
   "cell_type": "markdown",
   "metadata": {},
   "source": [
    "54. Tuple Reversal: Write a Python program to reverse a tuple without using any built-in functions."
   ]
  },
  {
   "cell_type": "code",
   "execution_count": 38,
   "metadata": {},
   "outputs": [
    {
     "data": {
      "text/plain": [
       "(5, 3, 2, 5, 1, 7, 4, 9)"
      ]
     },
     "execution_count": 38,
     "metadata": {},
     "output_type": "execute_result"
    }
   ],
   "source": [
    "t = (9, 4, 7, 1, 5 , 2 , 3, 5)\n",
    "l = []\n",
    "for x in reversed(t):\n",
    "    l.append(x)\n",
    "t= tuple(l)\n",
    "t"
   ]
  },
  {
   "cell_type": "markdown",
   "metadata": {},
   "source": [
    "55. Tuple Slicing: Given a tuple, write a Python program to extract a slice of elements from it."
   ]
  },
  {
   "cell_type": "code",
   "execution_count": 39,
   "metadata": {},
   "outputs": [
    {
     "name": "stdout",
     "output_type": "stream",
     "text": [
      "(1, 5, 2)\n"
     ]
    }
   ],
   "source": [
    "t = (9, 4, 7, 1, 5 , 2 , 3, 5)\n",
    "print(t[3:6])"
   ]
  },
  {
   "cell_type": "markdown",
   "metadata": {},
   "source": [
    "56. Tuple Operations: Given two tuples of integers, write a Python program to perform element-wise addition, subtraction, and multiplication and create new tuples for each operation."
   ]
  },
  {
   "cell_type": "code",
   "execution_count": 44,
   "metadata": {},
   "outputs": [
    {
     "name": "stdout",
     "output_type": "stream",
     "text": [
      "Addition:  (10, 6, 10, 5, 10, 8, 10, 13)\n",
      "Subtraction:  (8, 2, 4, -3, 0, -4, -4, -3)\n",
      "Multipication:  (9, 8, 21, 4, 25, 12, 21, 40)\n"
     ]
    }
   ],
   "source": [
    "t1 = (9, 4, 7, 1, 5, 2, 3, 5)\n",
    "t2 = (1, 2, 3, 4, 5, 6, 7, 8)\n",
    "add_t = tuple(x + y for x, y in zip(t1, t2))\n",
    "sub_t = tuple(x - y for x, y in zip(t1, t2))\n",
    "mul_t = tuple(x * y for x, y in zip(t1, t2))\n",
    "print(\"Addition: \", add_t)\n",
    "print(\"Subtraction: \", sub_t)\n",
    "print(\"Multipication: \", mul_t)"
   ]
  },
  {
   "cell_type": "markdown",
   "metadata": {},
   "source": [
    "57. Tuple Membership Test: Write a Python program that takes an element as input and checks if it exists in a given tuple."
   ]
  },
  {
   "cell_type": "code",
   "execution_count": 47,
   "metadata": {},
   "outputs": [
    {
     "name": "stdout",
     "output_type": "stream",
     "text": [
      "66 does not exist in the tuple\n"
     ]
    }
   ],
   "source": [
    "t1 = (9, 4, 7, 1, 5, 2, 3, 5)\n",
    "n= int(input(\"Input a number: \"))\n",
    "if n in t1:\n",
    "    print(f\"{n} is exists in the tuple\")\n",
    "else: print(f\"{n} does not exist in the tuple\")"
   ]
  },
  {
   "cell_type": "markdown",
   "metadata": {},
   "source": [
    "58. Tuple Packing: Write a Python program to pack three variables into a single tuple and print the tuple."
   ]
  },
  {
   "cell_type": "code",
   "execution_count": 48,
   "metadata": {},
   "outputs": [
    {
     "name": "stdout",
     "output_type": "stream",
     "text": [
      "(2, 3, 45)\n"
     ]
    }
   ],
   "source": [
    "v1, v2, v3 = 2, 3, 45\n",
    "t = (v1, v2, v3)\n",
    "print(t)"
   ]
  },
  {
   "cell_type": "markdown",
   "metadata": {},
   "source": [
    "# Nested List Problems:"
   ]
  },
  {
   "cell_type": "markdown",
   "metadata": {},
   "source": [
    "59. Nested List Element Access: Given a nested list, write a Python program to access and print specific elements from it."
   ]
  },
  {
   "cell_type": "code",
   "execution_count": 52,
   "metadata": {},
   "outputs": [
    {
     "name": "stdout",
     "output_type": "stream",
     "text": [
      "26\n",
      "71\n",
      "15\n"
     ]
    }
   ],
   "source": [
    "n_l =[\n",
    "    [1,26,3,4],\n",
    "    [2,[71,9],5],\n",
    "    [[15,7],6,0]\n",
    "]\n",
    "#access 26\n",
    "print(n_l[0][1])\n",
    "#access 71\n",
    "print(n_l[1][1][0])\n",
    "#access 15\n",
    "print(n_l[2][0][0])"
   ]
  },
  {
   "cell_type": "markdown",
   "metadata": {},
   "source": [
    "60. Nested List Flattening: Write a Python program to flatten a nested list and convert it into a single-dimensional list."
   ]
  },
  {
   "cell_type": "code",
   "execution_count": 53,
   "metadata": {},
   "outputs": [
    {
     "name": "stdout",
     "output_type": "stream",
     "text": [
      "Flattened List: [1, 2, 3, 4, 5, 6, 7, 8, 9]\n"
     ]
    }
   ],
   "source": [
    "def flatten(nested):\n",
    "    result = []\n",
    "    for item in nested:\n",
    "        if isinstance(item, list):  \n",
    "            result.extend(flatten(item)) \n",
    "        else:\n",
    "            result.append(item)\n",
    "    return result\n",
    "\n",
    "nested = [[1, [2, [3, 4], 5]], 6, [[7, 8], 9]]\n",
    "print(\"Flattened List:\", flatten(nested))"
   ]
  },
  {
   "cell_type": "markdown",
   "metadata": {},
   "source": [
    "61. Nested List Sorting: Given a nested list containing lists of integers, write a Python program to sort the sublists based on their lengths."
   ]
  },
  {
   "cell_type": "code",
   "execution_count": 58,
   "metadata": {},
   "outputs": [
    {
     "name": "stdout",
     "output_type": "stream",
     "text": [
      "Sorted Nested List: [[9, 8], [3, 1, 2], [5, 4, 6, 7], [10, 11, 12, 13, 14]]\n"
     ]
    }
   ],
   "source": [
    "nested_list = [[3, 1, 2], [5, 4, 6, 7], [9, 8], [10, 11, 12, 13, 14]]\n",
    "sorted_list = sorted(nested_list, key=len)\n",
    "print(\"Sorted Nested List:\", sorted_list)"
   ]
  },
  {
   "cell_type": "markdown",
   "metadata": {},
   "source": [
    "62. List of Tuples Conversion: Given a nested list containing tuples of (x, y) coordinates, write a Python program to convert it into a list of x-coordinates and a list of y-coordinates."
   ]
  },
  {
   "cell_type": "code",
   "execution_count": 62,
   "metadata": {},
   "outputs": [
    {
     "name": "stdout",
     "output_type": "stream",
     "text": [
      "List of x-coordinates is: [1, 3, 5, 7, 9]\n",
      "List of y-coordinates is: [2, 4, 6, 8, 10]\n"
     ]
    }
   ],
   "source": [
    "l = [(1,2), (3,4), (5,6), (7,8), (9,10)]\n",
    "xl = [x for (x,y) in l]\n",
    "yl = [y for (x,y) in l]\n",
    "print(f\"List of x-coordinates is: {xl}\")\n",
    "print(f\"List of y-coordinates is: {yl}\")"
   ]
  },
  {
   "cell_type": "markdown",
   "metadata": {},
   "source": [
    "63. Matrix Transpose: Write a Python program to transpose a given matrix represented as a nested list."
   ]
  },
  {
   "cell_type": "code",
   "execution_count": 63,
   "metadata": {},
   "outputs": [
    {
     "name": "stdout",
     "output_type": "stream",
     "text": [
      "[1, 3, 5]\n",
      "[2, 4, 6]\n",
      "[3, 2, 7]\n",
      "[4, 1, 9]\n"
     ]
    }
   ],
   "source": [
    "m = [\n",
    "    [1, 2, 3, 4],\n",
    "    [3, 4, 2, 1],\n",
    "    [5, 6, 7, 9]\n",
    "]\n",
    "\n",
    "tm = [[0]*len(m) for _ in range(len(m[0]))]\n",
    "\n",
    "for i in range(len(m)):\n",
    "    for j in range(len(m[0])):\n",
    "        tm[j][i] = m[i][j]\n",
    "for row in tm:\n",
    "    print(row)"
   ]
  },
  {
   "cell_type": "markdown",
   "metadata": {},
   "source": [
    "64. Nested List Concatenation: Given a list of nested lists, write a Python program to concatenate all the sublists into a single flat list."
   ]
  },
  {
   "cell_type": "code",
   "execution_count": 64,
   "metadata": {},
   "outputs": [
    {
     "name": "stdout",
     "output_type": "stream",
     "text": [
      "Flattened List: [1, 2, 3, 4, 5, 6, 7, 8, 9]\n"
     ]
    }
   ],
   "source": [
    "def flatten(nested):\n",
    "    result = []\n",
    "    for item in nested:\n",
    "        if isinstance(item, list):  \n",
    "            result.extend(flatten(item)) \n",
    "        else:\n",
    "            result.append(item)\n",
    "    return result\n",
    "\n",
    "nested =  [[1, 2, 3], [4, 5], [6, 7, 8], [9]]\n",
    "print(\"Flattened List:\", flatten(nested))\n"
   ]
  },
  {
   "cell_type": "markdown",
   "metadata": {},
   "source": [
    "65. Count Even Numbers: Write a Python program to count the number of even numbers in a nested list."
   ]
  },
  {
   "cell_type": "code",
   "execution_count": 65,
   "metadata": {},
   "outputs": [
    {
     "name": "stdout",
     "output_type": "stream",
     "text": [
      "Number of even number is 4\n"
     ]
    }
   ],
   "source": [
    "def flatten(nested):\n",
    "    result = []\n",
    "    for item in nested:\n",
    "        if isinstance(item, list):  \n",
    "            result.extend(flatten(item)) \n",
    "        else:\n",
    "            result.append(item)\n",
    "    return result\n",
    "\n",
    "nested = [[1, [2, [3, 4], 5]], 6, [[7, 8], 9]]\n",
    "flat = flatten(nested)\n",
    "\n",
    "c = sum(1 for x in flat if x % 2 == 0)\n",
    "\n",
    "print(f\"Number of even number is {c}\")\n"
   ]
  },
  {
   "cell_type": "markdown",
   "metadata": {},
   "source": [
    "66. Maximum Element in Nested List: Write a Python program to find the maximum element in a nested list of integers."
   ]
  },
  {
   "cell_type": "code",
   "execution_count": 70,
   "metadata": {},
   "outputs": [
    {
     "name": "stdout",
     "output_type": "stream",
     "text": [
      "Maximum element is: 8 and it appeared 4 times\n"
     ]
    }
   ],
   "source": [
    "def flatten(nested):\n",
    "    result = []\n",
    "    for item in nested:\n",
    "        if isinstance(item, list):  \n",
    "            result.extend(flatten(item)) \n",
    "        else:\n",
    "            result.append(item)\n",
    "    return result\n",
    "\n",
    "nested = [[1, 8, [2, 8, [3, 4], 5]], 8, 6, [[7, 8], 9]]\n",
    "flat = flatten(nested)\n",
    "\n",
    "dic = {}\n",
    "for x in flat:\n",
    "    if x in dic:\n",
    "        dic[x] += 1\n",
    "    else: dic[x] = 1\n",
    "max_digit = max(dic, key=dic.get)\n",
    "print(f\"Maximum element is: {max_digit} and it appeared {dic[8]} times\")\n",
    "\n"
   ]
  },
  {
   "cell_type": "markdown",
   "metadata": {},
   "source": [
    "67. Diagonal Sum of Matrix: Given a square matrix represented as a nested list, write a Python program to calculate the sum of the elements in the main diagonal."
   ]
  },
  {
   "cell_type": "code",
   "execution_count": 73,
   "metadata": {},
   "outputs": [
    {
     "name": "stdout",
     "output_type": "stream",
     "text": [
      "Summation of main diagonal is: 15\n"
     ]
    }
   ],
   "source": [
    "m = [\n",
    "    [1,2,3],\n",
    "    [4,5,6],\n",
    "    [7,8,9]\n",
    "]\n",
    "add = 0\n",
    "for i in range(len(m)):\n",
    "    add = add + m[i][i]\n",
    "print(f\"Summation of main diagonal is: {add}\")"
   ]
  },
  {
   "cell_type": "markdown",
   "metadata": {},
   "source": [
    "68. Nested List Element Search: Write a Python program to search for a specific element in a nested list and return its position (row and column indices)."
   ]
  },
  {
   "cell_type": "code",
   "execution_count": 82,
   "metadata": {},
   "outputs": [
    {
     "name": "stdout",
     "output_type": "stream",
     "text": [
      "51 is found at (1,4)th position\n"
     ]
    }
   ],
   "source": [
    "m = [\n",
    "    [1,2,3,51,61],\n",
    "    [4,5,6,11,21],\n",
    "    [7,8,9,20,30]\n",
    "]\n",
    "flag = 0\n",
    "n = int(input(\"Imput a number: \"))\n",
    "\n",
    "for i in range(len(m)):\n",
    "    for j in range(len(m[0])):\n",
    "        if n == m[i][j]:\n",
    "            flag = 1\n",
    "            break\n",
    "    if flag: break\n",
    "if flag == 0: print(f\"{n} is Not found\")\n",
    "else: print(f\"{n} is found at ({i+1},{j+1})th position\")\n"
   ]
  },
  {
   "cell_type": "markdown",
   "metadata": {},
   "source": [
    "# Set Problems:"
   ]
  },
  {
   "cell_type": "markdown",
   "metadata": {},
   "source": [
    "69. Duplicate Removal: Write a Python program that takes a list of elements as input and creates a new set containing only the unique elements from the list."
   ]
  },
  {
   "cell_type": "code",
   "execution_count": 87,
   "metadata": {},
   "outputs": [
    {
     "data": {
      "text/plain": [
       "[1, 2, 3, 4, 7]"
      ]
     },
     "execution_count": 87,
     "metadata": {},
     "output_type": "execute_result"
    }
   ],
   "source": [
    "l = [1,2,1,1,3,2,4,1,7]\n",
    "s =  set(l)\n",
    "l = list(s)\n",
    "l"
   ]
  },
  {
   "cell_type": "markdown",
   "metadata": {},
   "source": [
    "70. Set Intersection: Given two sets A and B, write a Python program to find their intersection and print the common elements."
   ]
  },
  {
   "cell_type": "code",
   "execution_count": 89,
   "metadata": {},
   "outputs": [
    {
     "name": "stdout",
     "output_type": "stream",
     "text": [
      "Intersection of A and B is:  {4, 5}\n"
     ]
    }
   ],
   "source": [
    "A = {1,2,3,4,5}\n",
    "B = {4,5,6,7,8}\n",
    "\n",
    "print(\"Intersection of A and B is: \", A & B)"
   ]
  },
  {
   "cell_type": "markdown",
   "metadata": {},
   "source": [
    "71. Set Union: Given two sets A and B, write a Python program to find their union and print all the distinct elements from both sets."
   ]
  },
  {
   "cell_type": "code",
   "execution_count": 91,
   "metadata": {},
   "outputs": [
    {
     "name": "stdout",
     "output_type": "stream",
     "text": [
      "Union of A and B is:  {1, 2, 3, 4, 5, 6, 7, 8}\n"
     ]
    }
   ],
   "source": [
    "A = {1,2,3,4,5}\n",
    "B = {4,5,6,7,8}\n",
    "\n",
    "print(\"Union of A and B is: \", A | B)"
   ]
  },
  {
   "cell_type": "markdown",
   "metadata": {},
   "source": [
    "72. Set Difference: Given two sets A and B, write a Python program to find the difference between set A and set B (i.e., elements present in A but not in B) and print the result."
   ]
  },
  {
   "cell_type": "code",
   "execution_count": 92,
   "metadata": {},
   "outputs": [
    {
     "name": "stdout",
     "output_type": "stream",
     "text": [
      "Difference between A and B is:  {1, 2, 3}\n"
     ]
    }
   ],
   "source": [
    "A = {1,2,3,4,5}\n",
    "B = {4,5,6,7,8}\n",
    "\n",
    "print(\"Difference between A and B is: \", A - B)"
   ]
  },
  {
   "cell_type": "markdown",
   "metadata": {},
   "source": [
    "73. Set Symmetric Difference: Given two sets A and B, write a Python program to find the symmetric difference between the two sets (i.e., elements that are present in either set A or set B, but not in both) and print the result."
   ]
  },
  {
   "cell_type": "code",
   "execution_count": 93,
   "metadata": {},
   "outputs": [
    {
     "name": "stdout",
     "output_type": "stream",
     "text": [
      "Symmetric Difference of A and B is: {1, 2, 3, 6, 7, 8}\n"
     ]
    }
   ],
   "source": [
    "A = {1,2,3,4,5}\n",
    "B = {4,5,6,7,8}\n",
    "\n",
    "print(\"Symmetric Difference of A and B is:\", A ^ B)"
   ]
  },
  {
   "cell_type": "markdown",
   "metadata": {},
   "source": [
    "74. Set Operations: Given three sets A, B, and C, write a Python program to find and print the intersection of A and B, the union of B and C, and the difference between C and A."
   ]
  },
  {
   "cell_type": "code",
   "execution_count": 94,
   "metadata": {},
   "outputs": [
    {
     "name": "stdout",
     "output_type": "stream",
     "text": [
      "{4, 5}\n",
      "{1, 3, 4, 5, 6, 7, 8, 9}\n",
      "{9, 7}\n"
     ]
    }
   ],
   "source": [
    "A = {1,2,3,4,5}\n",
    "B = {4,5,6,7,8}\n",
    "C = {1,3,5,7,9}\n",
    "print(A & B)\n",
    "print(B | C)\n",
    "print(C-A)"
   ]
  },
  {
   "cell_type": "markdown",
   "metadata": {},
   "source": [
    "75. Set Subset Check: Given two sets A and B, write a Python program to check if set A is a subset of set B and print the result."
   ]
  },
  {
   "cell_type": "code",
   "execution_count": 98,
   "metadata": {},
   "outputs": [
    {
     "name": "stdout",
     "output_type": "stream",
     "text": [
      "Subset\n"
     ]
    }
   ],
   "source": [
    "B = {1,2,3,4,5}\n",
    "A = {1,2,3,4}\n",
    "flag =0\n",
    "for x in A:\n",
    "    if x in B:\n",
    "        continue\n",
    "    else:\n",
    "        flag = 1\n",
    "        break\n",
    "print(\"Subset\") if flag == 0 else print(\"Not Subset\")"
   ]
  },
  {
   "cell_type": "markdown",
   "metadata": {},
   "source": [
    "76. Set Superset Check: Given two sets A and B, write a Python program to check if set A is a superset of set B and print the result."
   ]
  },
  {
   "cell_type": "code",
   "execution_count": 100,
   "metadata": {},
   "outputs": [
    {
     "name": "stdout",
     "output_type": "stream",
     "text": [
      "Superset\n"
     ]
    }
   ],
   "source": [
    "A = {1,2,3,4,5}\n",
    "B = {1,2,3,4}\n",
    "\n",
    "for x in B:\n",
    "    if x in A:\n",
    "        continue\n",
    "    else:\n",
    "        flag = 1\n",
    "        break\n",
    "print(\"Superset\") if flag == 0 else print(\"Not Superset\")"
   ]
  },
  {
   "cell_type": "markdown",
   "metadata": {},
   "source": [
    "77. Set Length Check: Write a Python program that takes a set as input and prints the number of elements in the set."
   ]
  },
  {
   "cell_type": "code",
   "execution_count": 105,
   "metadata": {},
   "outputs": [
    {
     "name": "stdout",
     "output_type": "stream",
     "text": [
      "Number of elements is:  2\n"
     ]
    }
   ],
   "source": [
    "A= input(\"Elements\").split()\n",
    "A = set(A)\n",
    "print(\"Number of elements is: \",len(A))"
   ]
  },
  {
   "cell_type": "markdown",
   "metadata": {},
   "source": [
    "76. Set Membership Test: Write a Python program that takes an element as input and checks if it exists in a given set. Print “Found” if the element is present and “Not Found” otherwise."
   ]
  },
  {
   "cell_type": "code",
   "execution_count": 110,
   "metadata": {},
   "outputs": [
    {
     "name": "stdout",
     "output_type": "stream",
     "text": [
      "4 is Found\n"
     ]
    }
   ],
   "source": [
    "A = {1,2,3,4,5}\n",
    "n =int( input(\"Input a number\"))\n",
    "print(f\"{n} is Found\") if n in A else print(f\"{n} is Not found\")"
   ]
  },
  {
   "cell_type": "markdown",
   "metadata": {},
   "source": [
    "# Dictionary Problems:"
   ]
  },
  {
   "cell_type": "markdown",
   "metadata": {},
   "source": [
    "77. Dictionary Manipulation: Given a dictionary with student names as keys and their corresponding scores as values, write a Python program to add a new student to the dictionary and update the score of an existing student."
   ]
  },
  {
   "cell_type": "code",
   "execution_count": 111,
   "metadata": {},
   "outputs": [
    {
     "name": "stdout",
     "output_type": "stream",
     "text": [
      "{'A': 50, 'B': 95, 'C': 82, 'D': 76, 'E': 65}\n"
     ]
    }
   ],
   "source": [
    "dic = {\n",
    "    \"A\" : 50,\n",
    "    \"B\" : 95,\n",
    "    \"C\" : 82,\n",
    "    \"D\" : 76\n",
    "}\n",
    "dic[\"E\"] = 65\n",
    "print(dic)"
   ]
  },
  {
   "cell_type": "markdown",
   "metadata": {},
   "source": [
    "78. Dictionary Keys and Values: Write a Python program that takes a dictionary as input and prints all the keys and values in separate lines."
   ]
  },
  {
   "cell_type": "code",
   "execution_count": 118,
   "metadata": {},
   "outputs": [
    {
     "name": "stdout",
     "output_type": "stream",
     "text": [
      "A B C D E \n",
      "50 60 70 80 90 "
     ]
    }
   ],
   "source": [
    "n = int(input(\"Enter the number of key-value pairs: \"))\n",
    "dic = {}\n",
    "\n",
    "for _ in range(n):\n",
    "    k = input(\"Enter key: \")\n",
    "    v = input(\"Enter value: \")\n",
    "    dic[k] = v\n",
    "\n",
    "for key in dic.keys():\n",
    "    print(key, end=\" \")\n",
    "print()\n",
    "\n",
    "for value in dic.values():\n",
    "    print(value, end=\" \")\n"
   ]
  },
  {
   "cell_type": "markdown",
   "metadata": {},
   "source": [
    "79. Dictionary Length: Write a Python program to calculate and print the number of key-value pairs in a given dictionary."
   ]
  },
  {
   "cell_type": "code",
   "execution_count": 119,
   "metadata": {},
   "outputs": [
    {
     "name": "stdout",
     "output_type": "stream",
     "text": [
      "4\n"
     ]
    }
   ],
   "source": [
    "dic = {\n",
    "    \"A\" : 50,\n",
    "    \"B\" : 95,\n",
    "    \"C\" : 82,\n",
    "    \"D\" : 76\n",
    "}\n",
    "print(len(dic))"
   ]
  },
  {
   "cell_type": "markdown",
   "metadata": {},
   "source": [
    "80. Dictionary Value Search: Given a dictionary of items and their prices, write a Python program to search for an item based on its price and print the item’s name."
   ]
  },
  {
   "cell_type": "code",
   "execution_count": 123,
   "metadata": {},
   "outputs": [
    {
     "name": "stdout",
     "output_type": "stream",
     "text": [
      "Fish\n"
     ]
    }
   ],
   "source": [
    "dic = {\n",
    "    \"Rice\" : 50,\n",
    "    \"Meat\" : 95,\n",
    "    \"Fish\" : 82,\n",
    "    \"Froot\" : 76\n",
    "}\n",
    "\n",
    "flag = 0\n",
    "\n",
    "n = int(input(\"Input Price: \"))\n",
    "\n",
    "for food, price in dic.items():\n",
    "    if price == n:\n",
    "        print(food)\n",
    "        flag = 1\n",
    "if flag ==0:\n",
    "    print(\"Not matched\")\n"
   ]
  },
  {
   "cell_type": "markdown",
   "metadata": {},
   "source": [
    "81. Dictionary Merging: Given two dictionaries, write a Python program to merge them into a single dictionary and print the result."
   ]
  },
  {
   "cell_type": "code",
   "execution_count": 126,
   "metadata": {},
   "outputs": [
    {
     "name": "stdout",
     "output_type": "stream",
     "text": [
      "{'Rice': 50, 'Meat': 95, 'Fish': 82, 'Froot': 76, 'A': 500, 'B': 950, 'C': 820, 'D': 760}\n"
     ]
    }
   ],
   "source": [
    "dic1 = {\n",
    "    \"Rice\" : 50,\n",
    "    \"Meat\" : 95,\n",
    "    \"Fish\" : 82,\n",
    "    \"Froot\" : 76\n",
    "}\n",
    "\n",
    "dic2 = {\n",
    "    \"A\" : 500,\n",
    "    \"B\" : 950,\n",
    "    \"C\" : 820,\n",
    "    \"D\" : 760\n",
    "}\n",
    "\n",
    "dic3 = {**dic1 , **dic2}\n",
    "print(dic3)"
   ]
  },
  {
   "cell_type": "markdown",
   "metadata": {},
   "source": [
    "82. Dictionary Key Removal: Given a dictionary of items and their quantities, write a Python program to remove a specific item from the dictionary based on user input."
   ]
  },
  {
   "cell_type": "code",
   "execution_count": 128,
   "metadata": {},
   "outputs": [
    {
     "data": {
      "text/plain": [
       "{'A': 500, 'B': 950, 'D': 760}"
      ]
     },
     "execution_count": 128,
     "metadata": {},
     "output_type": "execute_result"
    }
   ],
   "source": [
    "dic2 = {\n",
    "    \"A\" : 500,\n",
    "    \"B\" : 950,\n",
    "    \"C\" : 820,\n",
    "    \"D\" : 760\n",
    "}\n",
    "k = input(\"Input key for delete\")\n",
    "del dic2[k]\n",
    "dic2"
   ]
  },
  {
   "cell_type": "markdown",
   "metadata": {},
   "source": [
    "83. Dictionary Sorting: Given a dictionary with names as keys and corresponding ages as values, write a Python program to sort the dictionary based on age in ascending order."
   ]
  },
  {
   "cell_type": "code",
   "execution_count": 140,
   "metadata": {},
   "outputs": [
    {
     "data": {
      "text/plain": [
       "{'A': 50, 'D': 76, 'C': 82, 'B': 95}"
      ]
     },
     "execution_count": 140,
     "metadata": {},
     "output_type": "execute_result"
    }
   ],
   "source": [
    "dic = {\n",
    "    \"A\" : 50,\n",
    "    \"B\" : 95,\n",
    "    \"C\" : 82,\n",
    "    \"D\" : 76\n",
    "}\n",
    "sorted_dic = dict(sorted(dic.items(), key=lambda x: x[1]))\n",
    "sorted_dic"
   ]
  },
  {
   "cell_type": "markdown",
   "metadata": {},
   "source": [
    "84. Dictionary Frequency Count: Write a Python program that takes a string as input and creates a dictionary containing each character as a key and its frequency as the value."
   ]
  },
  {
   "cell_type": "code",
   "execution_count": 141,
   "metadata": {},
   "outputs": [
    {
     "data": {
      "text/plain": [
       "{'a': 2, 'b': 1, 'c': 2}"
      ]
     },
     "execution_count": 141,
     "metadata": {},
     "output_type": "execute_result"
    }
   ],
   "source": [
    "n = int(input(\"Enter the number of key-value pairs: \"))\n",
    "dic = {}\n",
    "\n",
    "for _ in range(n):\n",
    "    k = input(\"Enter key: \")\n",
    "    if k in dic:\n",
    "        dic[k] +=1\n",
    "    else: dic[k] = 1\n",
    "dic"
   ]
  },
  {
   "cell_type": "markdown",
   "metadata": {},
   "source": [
    "85. Dictionary Comprehension: Given a list of integers, write a Python program to create a dictionary where the keys are the elements from the list, and the values are their squares."
   ]
  },
  {
   "cell_type": "code",
   "execution_count": 142,
   "metadata": {},
   "outputs": [
    {
     "data": {
      "text/plain": [
       "{1: 1, 2: 4, 3: 9, 4: 16, 5: 25, 6: 36, 7: 49, 8: 64, 9: 81}"
      ]
     },
     "execution_count": 142,
     "metadata": {},
     "output_type": "execute_result"
    }
   ],
   "source": [
    "l = [1,2,3,4,5,6,7,8,9]\n",
    "dic = {}\n",
    "for x in l:\n",
    "    dic[x] = x**2\n",
    "dic"
   ]
  },
  {
   "cell_type": "markdown",
   "metadata": {},
   "source": [
    "86. Dictionary Key Check: Write a Python program that takes a key as input and checks if it exists in a given dictionary. Print “Key Found” if the key is present and “Key Not Found” otherwise."
   ]
  },
  {
   "cell_type": "code",
   "execution_count": 145,
   "metadata": {},
   "outputs": [
    {
     "name": "stdout",
     "output_type": "stream",
     "text": [
      "Found\n"
     ]
    }
   ],
   "source": [
    "dic = {\n",
    "    \"A\" : 50,\n",
    "    \"B\" : 95,\n",
    "    \"C\" : 82,\n",
    "    \"D\" : 76\n",
    "}\n",
    "k = input(\"Input key\")\n",
    "if k in dic:\n",
    "    print(\"Found\")\n",
    "else: print(\"Not Found\")"
   ]
  },
  {
   "cell_type": "markdown",
   "metadata": {},
   "source": [
    "# Nested Dictionary Problems:"
   ]
  },
  {
   "cell_type": "markdown",
   "metadata": {},
   "source": [
    "87. Access Nested Dictionary: Given a nested dictionary containing student details, write a Python program to access and print specific information such as a student’s name, age, and address."
   ]
  },
  {
   "cell_type": "code",
   "execution_count": 149,
   "metadata": {},
   "outputs": [
    {
     "name": "stdout",
     "output_type": "stream",
     "text": [
      "Name: Rashedul Islam\n",
      "Age: 23\n",
      "Address: Rajshahi\n",
      "-------------------\n",
      "Name: Shuvo\n",
      "Age: 25\n",
      "Address: Bogura\n",
      "-------------------\n",
      "Name: Rabbi\n",
      "Age: 22\n",
      "Address: Tangail\n",
      "-------------------\n"
     ]
    }
   ],
   "source": [
    "students = {\n",
    "    \"s1\": {\n",
    "        \"Name\" : \"Rashedul Islam\",\n",
    "        \"Age\" : 23,\n",
    "        \"Address\" : \"Rajshahi\"\n",
    "    },\n",
    "    \"s2\": {\n",
    "        \"Name\" : \"Shuvo\",\n",
    "        \"Age\" : 25,\n",
    "        \"Address\" : \"Bogura\"\n",
    "    },\n",
    "    \"s3\": {\n",
    "        \"Name\" : \"Rabbi\",\n",
    "        \"Age\" : 22,\n",
    "        \"Address\" : \"Tangail\"\n",
    "    }\n",
    "}\n",
    "for details in students.values():\n",
    "    print(\"Name:\",details[\"Name\"])\n",
    "    print(\"Age:\", details[\"Age\"])\n",
    "    print(\"Address:\",details[\"Address\"])\n",
    "    print(\"-------------------\")"
   ]
  },
  {
   "cell_type": "markdown",
   "metadata": {},
   "source": [
    "88. Nested Dictionary Length: Write a Python program to calculate and print the total number of key-value pairs in a nested dictionary."
   ]
  },
  {
   "cell_type": "code",
   "execution_count": 150,
   "metadata": {},
   "outputs": [
    {
     "name": "stdout",
     "output_type": "stream",
     "text": [
      "Total Number of Key-Value pair is:  9\n"
     ]
    }
   ],
   "source": [
    "students = {\n",
    "    \"s1\": {\n",
    "        \"Name\" : \"Rashedul Islam\",\n",
    "        \"Age\" : 23,\n",
    "        \"Address\" : \"Rajshahi\"\n",
    "    },\n",
    "    \"s2\": {\n",
    "        \"Name\" : \"Shuvo\",\n",
    "        \"Age\" : 25,\n",
    "        \"Address\" : \"Bogura\"\n",
    "    },\n",
    "    \"s3\": {\n",
    "        \"Name\" : \"Rabbi\",\n",
    "        \"Age\" : 22,\n",
    "        \"Address\" : \"Tangail\"\n",
    "    }\n",
    "}\n",
    "c = 0\n",
    "for details in students.values():\n",
    "    l = len(details)\n",
    "    c = c+l\n",
    "print(\"Total Number of Key-Value pair is: \",c)\n",
    "    "
   ]
  },
  {
   "cell_type": "markdown",
   "metadata": {},
   "source": [
    "89. Nested Dictionary Update: Given a nested dictionary of employee details, write a Python program to update an employee’s salary based on their employee ID."
   ]
  },
  {
   "cell_type": "code",
   "execution_count": 153,
   "metadata": {},
   "outputs": [
    {
     "data": {
      "text/plain": [
       "{'e1': {'ID': 1,\n",
       "  'Salary': 600000,\n",
       "  'Name': 'Rashedul Islam',\n",
       "  'Age': 23,\n",
       "  'Address': 'Rajshahi'},\n",
       " 'e2': {'ID': 2,\n",
       "  'Salary': 300000,\n",
       "  'Name': 'Shuvo',\n",
       "  'Age': 25,\n",
       "  'Address': 'Bogura'},\n",
       " 'e3': {'ID': 3,\n",
       "  'Salary': 200000,\n",
       "  'Name': 'Rabbi',\n",
       "  'Age': 22,\n",
       "  'Address': 'Tangail'}}"
      ]
     },
     "execution_count": 153,
     "metadata": {},
     "output_type": "execute_result"
    }
   ],
   "source": [
    "employes = {\n",
    "    \"e1\": {\n",
    "        \"ID\" : 1,\n",
    "        \"Salary\" : 500000,\n",
    "        \"Name\" : \"Rashedul Islam\",\n",
    "        \"Age\" : 23,\n",
    "        \"Address\" : \"Rajshahi\"\n",
    "    },\n",
    "    \"e2\": {\n",
    "        \"ID\" : 2,\n",
    "        \"Salary\" : 300000,\n",
    "        \"Name\" : \"Shuvo\",\n",
    "        \"Age\" : 25,\n",
    "        \"Address\" : \"Bogura\"\n",
    "    },\n",
    "    \"e3\": {\n",
    "        \"ID\" : 3,\n",
    "        \"Salary\" : 200000,\n",
    "        \"Name\" : \"Rabbi\",\n",
    "        \"Age\" : 22,\n",
    "        \"Address\" : \"Tangail\"\n",
    "    }\n",
    "}\n",
    "\n",
    "n = int(input(\"Input ID of Employee: \"))\n",
    "sal = int(input(\"Input Updated Salary: \"))\n",
    "\n",
    "for emp, details in employes.items():\n",
    "    if details[\"ID\"] == n:\n",
    "        details[\"Salary\"] = sal\n",
    "\n",
    "employes"
   ]
  },
  {
   "cell_type": "markdown",
   "metadata": {},
   "source": [
    "90. Nested Dictionary Sorting: Given a nested dictionary containing product details (product name, price, and quantity), write a Python program to sort the products based on their prices in ascending order."
   ]
  },
  {
   "cell_type": "code",
   "execution_count": 156,
   "metadata": {},
   "outputs": [
    {
     "data": {
      "text/plain": [
       "{'p3': {'Product': 'Headphones', 'Price': 500, 'Quantity': 50},\n",
       " 'p4': {'Product': 'Keyboard', 'Price': 2000, 'Quantity': 30},\n",
       " 'p2': {'Product': 'Smartphone', 'Price': 30000, 'Quantity': 20},\n",
       " 'p1': {'Product': 'Laptop', 'Price': 80000, 'Quantity': 10}}"
      ]
     },
     "execution_count": 156,
     "metadata": {},
     "output_type": "execute_result"
    }
   ],
   "source": [
    "products = {\n",
    "    \"p1\": {\n",
    "        \"Product\": \"Laptop\",\n",
    "        \"Price\": 80000,\n",
    "        \"Quantity\": 10\n",
    "    },\n",
    "    \"p2\": {\n",
    "        \"Product\": \"Smartphone\",\n",
    "        \"Price\": 30000,\n",
    "        \"Quantity\": 20\n",
    "    },\n",
    "    \"p3\": {\n",
    "        \"Product\": \"Headphones\",\n",
    "        \"Price\": 500,\n",
    "        \"Quantity\": 50\n",
    "    },\n",
    "    \"p4\": {\n",
    "        \"Product\": \"Keyboard\",\n",
    "        \"Price\": 2000,\n",
    "        \"Quantity\": 30\n",
    "    }\n",
    "}\n",
    "sorted_products = dict(sorted(products.items(), key= lambda x: x[1][\"Price\"]))\n",
    "\n",
    "sorted_products"
   ]
  },
  {
   "cell_type": "markdown",
   "metadata": {},
   "source": [
    "91. Nested Dictionary Key Search: Write a Python program that takes a key as input and searches for it in a nested dictionary. If found, print the corresponding value, otherwise, print “Key Not Found.”"
   ]
  },
  {
   "cell_type": "code",
   "execution_count": 159,
   "metadata": {},
   "outputs": [
    {
     "name": "stdout",
     "output_type": "stream",
     "text": [
      "Ability key is found\n"
     ]
    }
   ],
   "source": [
    "students = {\n",
    "    \"s1\": {\n",
    "        \"Name\" : \"Rashedul Islam\",\n",
    "        \"Age\" : 23,\n",
    "        \"Address\" : \"Rajshahi\"\n",
    "    },\n",
    "    \"s2\": {\n",
    "        \"Name\" : \"Shuvo\",\n",
    "        \"Age\" : 25,\n",
    "        \"Address\" : \"Bogura\",\n",
    "        \"Ability\" : \"Nothing\"\n",
    "    },\n",
    "    \"s3\": {\n",
    "        \"Name\" : \"Rabbi\",\n",
    "        \"Age\" : 22,\n",
    "        \"Address\" : \"Tangail\"\n",
    "    }\n",
    "}\n",
    "k = input(\"Input Key\")\n",
    "flag = 0\n",
    "for details in students.values():\n",
    "    if k in details:\n",
    "        print(f\"{k} key is found\")\n",
    "        flag = 1\n",
    "if flag == 0: print(f\"{k} key is not found\")"
   ]
  },
  {
   "cell_type": "markdown",
   "metadata": {},
   "source": [
    "# Break & Continue: "
   ]
  },
  {
   "cell_type": "markdown",
   "metadata": {},
   "source": [
    "92. Prime Number Checker: Write a Python program that takes a number as input and determines if it is a prime number or not. Use a `for` loop to check for factors. If a factor is found, `break` out of the loop."
   ]
  },
  {
   "cell_type": "code",
   "execution_count": 165,
   "metadata": {},
   "outputs": [
    {
     "name": "stdout",
     "output_type": "stream",
     "text": [
      "23 is Prime\n"
     ]
    }
   ],
   "source": [
    "n = int(input(\"Input a Number: \"))\n",
    "flag = 0\n",
    "c=0\n",
    "\n",
    "if n ==0 or n==1:\n",
    "    print(f\"{n} is Not Prime\")\n",
    "    \n",
    "elif n==2:\n",
    "     print(f\"{n} is Prime\")\n",
    "     \n",
    "      \n",
    "else:\n",
    "    for m in range ( 2,int(n**0.5+1)):\n",
    "        if(n%m == 0):\n",
    "            print (f\"{n} is Not Prime\")\n",
    "            flag = 1\n",
    "            break\n",
    "    if flag == 0:\n",
    "        print(f\"{n} is Prime\")  "
   ]
  },
  {
   "cell_type": "markdown",
   "metadata": {},
   "source": [
    "93. Even Number Printer: Write a Python program to print all even numbers from 1 to 20. Use a `for` loop and `continue` to skip odd numbers."
   ]
  },
  {
   "cell_type": "code",
   "execution_count": 166,
   "metadata": {},
   "outputs": [
    {
     "name": "stdout",
     "output_type": "stream",
     "text": [
      "0 2 4 6 8 10 12 14 16 18 "
     ]
    }
   ],
   "source": [
    "for i in range(20):\n",
    "    if(i%2) == 1:\n",
    "        continue\n",
    "    else: print(i, end=\" \")"
   ]
  },
  {
   "cell_type": "markdown",
   "metadata": {},
   "source": [
    "94. Password Validator: Write a Python program that takes a password as input and checks if it meets the following criteria: at least 8 characters long, contains both uppercase and lowercase letters, and has at least one digit. If the password is valid, print “Password accepted.” If not, use `continue` to prompt the user to enter a valid password."
   ]
  },
  {
   "cell_type": "code",
   "execution_count": 1,
   "metadata": {},
   "outputs": [
    {
     "name": "stdout",
     "output_type": "stream",
     "text": [
      "Try again\n",
      "Try again\n",
      "Try again\n",
      "ABCabc1234 is valid\n"
     ]
    }
   ],
   "source": [
    "while(1):\n",
    "    digit = 0\n",
    "    upper = 0\n",
    "    lower = 0\n",
    "    password = input(\"Input Password: \")\n",
    "    \n",
    "    if len(password) >= 8:\n",
    "        for x in password:\n",
    "            if x.isdigit():\n",
    "                digit = 1\n",
    "            if x.isupper():\n",
    "                upper = 1\n",
    "            if x.islower():\n",
    "                lower = 1\n",
    "                \n",
    "    if digit == 1 and upper == 1 and lower == 1:\n",
    "        print(f\"{password} is valid\")\n",
    "        break\n",
    "    else:\n",
    "        print(\"Try again\")\n",
    "\n"
   ]
  },
  {
   "cell_type": "markdown",
   "metadata": {},
   "source": [
    "95. Divisible by 3 or 5: Write a Python program to print all numbers from 1 to 50 that are divisible by either 3 or 5. Use a `for` loop and `continue` to skip numbers that are not divisible by either 3 or 5."
   ]
  },
  {
   "cell_type": "code",
   "execution_count": 2,
   "metadata": {},
   "outputs": [
    {
     "name": "stdout",
     "output_type": "stream",
     "text": [
      "0 3 5 6 9 10 12 15 18 20 21 24 25 27 30 33 35 36 39 40 42 45 48 50 "
     ]
    }
   ],
   "source": [
    "for i in range(51):\n",
    "    if (i%3 ==0 or i%5 == 0):\n",
    "        print(i, end=\" \")\n",
    "    else: continue"
   ]
  },
  {
   "cell_type": "markdown",
   "metadata": {},
   "source": [
    "96. Positive Number Sum: Write a Python program that takes positive numbers as input until a negative number is entered. Then, calculate and print the sum of all positive numbers entered. Use a `while` loop and `break` to exit the loop when a negative number is encountered."
   ]
  },
  {
   "cell_type": "code",
   "execution_count": 4,
   "metadata": {},
   "outputs": [
    {
     "name": "stdout",
     "output_type": "stream",
     "text": [
      "Summation is:  28\n"
     ]
    }
   ],
   "source": [
    "add = 0\n",
    "while(1):\n",
    "    n = int(input(\"Input Number: \"))\n",
    "    if n<1:\n",
    "        break\n",
    "    add += n\n",
    "print(\"Summation is: \",add)"
   ]
  },
  {
   "cell_type": "markdown",
   "metadata": {},
   "source": [
    "97. Word Palindrome Checker: Write a Python program that takes a word as input and checks if it is a palindrome (reads the same forwards and backward). Use `continue` to skip checking the word if its length is less than 3 characters."
   ]
  },
  {
   "cell_type": "code",
   "execution_count": 5,
   "metadata": {},
   "outputs": [
    {
     "name": "stdout",
     "output_type": "stream",
     "text": [
      "abccba is a Palindrome\n"
     ]
    }
   ],
   "source": [
    "def Palindrome(s):\n",
    "    i = 0\n",
    "    j= len(s)-1\n",
    "    while i<j:\n",
    "        if len(s) < 3:\n",
    "            return False\n",
    "        if s[i] != s[j]:\n",
    "            return False\n",
    "        i += 1\n",
    "        j -= 1\n",
    "    return True\n",
    "s = input(\"Input a Stirng: \")\n",
    "c = Palindrome(s)\n",
    "if c == True:\n",
    "    print(f\"{s} is a Palindrome\")\n",
    "else: print(f\"{s} is not a Palindrome\")"
   ]
  },
  {
   "cell_type": "markdown",
   "metadata": {},
   "source": [
    "98. Odd Number Finder: Write a Python program to find the first odd number from a list of integers. Use a `for` loop and `break` to stop the loop when the first odd number is found."
   ]
  },
  {
   "cell_type": "code",
   "execution_count": 6,
   "metadata": {},
   "outputs": [
    {
     "name": "stdout",
     "output_type": "stream",
     "text": [
      "First odd number is 7\n"
     ]
    }
   ],
   "source": [
    "l = [ 0, 2 , 4 , 6, 7, 8, 9, 10]\n",
    "for x in l:\n",
    "    if x%2 == 1:\n",
    "        print(f\"First odd number is {x}\")\n",
    "        break\n",
    "    else: continue"
   ]
  },
  {
   "cell_type": "markdown",
   "metadata": {},
   "source": [
    "99. Number Guessing Game: Write a Python program that generates a random number between 1 and 100 and lets the user guess the number. Use a `while` loop, `break` when the correct number is guessed, and `continue` to keep prompting the user until they guess correctly."
   ]
  },
  {
   "cell_type": "code",
   "execution_count": 9,
   "metadata": {},
   "outputs": [
    {
     "name": "stdout",
     "output_type": "stream",
     "text": [
      "Guess the number from 1 to 100\n",
      "Try Lower\n",
      "Try Heigher\n",
      "Try Lower\n",
      "Try Lower\n",
      "Try Lower\n",
      "Try Lower\n",
      "You have guess the correct number 26 at 7th guess\n"
     ]
    }
   ],
   "source": [
    "import random\n",
    "number = random.randint(1,100)\n",
    "c= 0\n",
    "print(\"Guess the number from 1 to 100\")\n",
    "while(1):\n",
    "    c += 1\n",
    "    n = int(input())\n",
    "    if n<number:\n",
    "        print(\"Try Heigher\")\n",
    "    elif n>number:\n",
    "        print(\"Try Lower\")\n",
    "    elif n == number:\n",
    "        print(f\"You have guess the correct number {number} at {c}th guess\")\n",
    "        break"
   ]
  },
  {
   "cell_type": "markdown",
   "metadata": {},
   "source": [
    "100. Vowel Counter: Write a Python program that takes a string as input and counts the number of vowels (a, e, i, o, u) in it. Use a `for` loop and `continue` to skip counting non-vowel characters."
   ]
  },
  {
   "cell_type": "code",
   "execution_count": 11,
   "metadata": {},
   "outputs": [
    {
     "name": "stdout",
     "output_type": "stream",
     "text": [
      "number of vowels in education is 5\n"
     ]
    }
   ],
   "source": [
    "s = input(\"Input a string\")\n",
    "vowel = ['a','e','i','o','u', 'A', 'E', 'I', 'O', 'U']\n",
    "c=0\n",
    "for x in s:\n",
    "    if x in vowel:\n",
    "        c += 1\n",
    "    else:  continue\n",
    "print(f\"number of vowels in {s} is {c}\")"
   ]
  },
  {
   "cell_type": "markdown",
   "metadata": {},
   "source": [
    "101. Unique Characters: Write a Python program that takes a string as input and checks if it contains all unique characters (no character repeats). Use a `for` loop and `break` when a character repeats."
   ]
  },
  {
   "cell_type": "code",
   "execution_count": 18,
   "metadata": {},
   "outputs": [
    {
     "name": "stdout",
     "output_type": "stream",
     "text": [
      "education is unique\n"
     ]
    }
   ],
   "source": [
    "s = input(\"Input a string\")\n",
    "l = []\n",
    "flag = 0\n",
    "for x in s:\n",
    "    if x in l:\n",
    "        print(f\"{s} is in not unique\")\n",
    "        flag = 1\n",
    "        break\n",
    "        \n",
    "    else:\n",
    "        l.append(x)\n",
    "if flag == 0:\n",
    "    print(f\"{s} is unique\")"
   ]
  },
  {
   "cell_type": "markdown",
   "metadata": {},
   "source": [
    "# Functions Problems:"
   ]
  },
  {
   "cell_type": "markdown",
   "metadata": {},
   "source": [
    "102. Factorial Calculator: Write a Python function called `factorial` that takes an integer as input and returns its factorial. Test the function with different values."
   ]
  },
  {
   "cell_type": "code",
   "execution_count": 20,
   "metadata": {},
   "outputs": [
    {
     "name": "stdout",
     "output_type": "stream",
     "text": [
      "Factorial of 5 is:  120\n"
     ]
    }
   ],
   "source": [
    "n = int(input(\"Input Number: \"))\n",
    "def fact(n):\n",
    "    if n ==0:\n",
    "        return 1\n",
    "    elif n==1:\n",
    "        return 1\n",
    "    else: return fact(n-1)*n\n",
    "\n",
    "print(f\"Factorial of {n} is: \",fact(n))"
   ]
  },
  {
   "cell_type": "markdown",
   "metadata": {},
   "source": [
    "103. Palindrome Checker: Write a Python function called `is_palindrome` that takes a string as input and returns `True` if it is a palindrome and `False` otherwise. Test the function with different words."
   ]
  },
  {
   "cell_type": "code",
   "execution_count": 21,
   "metadata": {},
   "outputs": [
    {
     "name": "stdout",
     "output_type": "stream",
     "text": [
      "nayan is a Palindrome\n",
      "ruet is not a Palindrome\n"
     ]
    }
   ],
   "source": [
    "def Palindrome(s):\n",
    "    i = 0\n",
    "    j= len(s)-1\n",
    "    flag = 0\n",
    "    while i<j:\n",
    "        if len(s) < 3:\n",
    "            print(f\"{s} is not a Palindrome\")\n",
    "            flag =1\n",
    "            break\n",
    "        if s[i] != s[j]:\n",
    "            print(f\"{s} is not a Palindrome\")\n",
    "            flag =1\n",
    "            break\n",
    "        i += 1\n",
    "        j -= 1\n",
    "    if flag == 0:\n",
    "        print(f\"{s} is a Palindrome\")\n",
    "s1 = input(\"Input first Stirng: \")\n",
    "s2 = input(\"Input second Stirng: \")\n",
    "Palindrome(s1)\n",
    "Palindrome(s2)\n",
    "\n"
   ]
  },
  {
   "cell_type": "markdown",
   "metadata": {},
   "source": [
    "104. Even or Odd Checker: Write a Python function called `even_or_odd` that takes an integer as input and returns “Even” if the number is even and “Odd” if the number is odd. Test the function with different numbers."
   ]
  },
  {
   "cell_type": "code",
   "execution_count": 22,
   "metadata": {},
   "outputs": [
    {
     "name": "stdout",
     "output_type": "stream",
     "text": [
      "512 is Even\n",
      "113 is Odd\n",
      "310 is Even\n"
     ]
    }
   ],
   "source": [
    "def even_or_odd(n):\n",
    "    if n%2 == 0:\n",
    "        print(f\"{n} is Even\")\n",
    "    else:   print(f\"{n} is Odd\")\n",
    "even_or_odd(512)\n",
    "even_or_odd(113)\n",
    "even_or_odd(310)\n"
   ]
  },
  {
   "cell_type": "markdown",
   "metadata": {},
   "source": [
    "105. List Sum Calculator: Write a Python function called `list_sum` that takes a list of integers as input and returns the sum of all elements in the list. Test the function with different lists."
   ]
  },
  {
   "cell_type": "code",
   "execution_count": 24,
   "metadata": {},
   "outputs": [
    {
     "name": "stdout",
     "output_type": "stream",
     "text": [
      "Sum of [1, 2, 3, 4] is: 10\n",
      "Sum of [3, 4, 5, 6] is: 18\n",
      "Sum of [10, 20, 30] is: 60\n"
     ]
    }
   ],
   "source": [
    "def list_sum(l):\n",
    "    return sum(l)\n",
    "l1 = [1,2,3,4]\n",
    "l2 = [3,4,5,6]\n",
    "l3 = [10,20,30]\n",
    "print(f\"Sum of {l1} is: {list_sum(l1)}\")\n",
    "print(f\"Sum of {l2} is: {list_sum(l2)}\")\n",
    "print(f\"Sum of {l3} is: {list_sum(l3)}\")"
   ]
  },
  {
   "cell_type": "markdown",
   "metadata": {},
   "source": [
    "106. Greatest Common Divisor (GCD) Calculator: Write a Python function called `gcd` that takes two integers as input and returns their greatest common divisor. Test the function with different pairs of numbers."
   ]
  },
  {
   "cell_type": "code",
   "execution_count": 28,
   "metadata": {},
   "outputs": [
    {
     "name": "stdout",
     "output_type": "stream",
     "text": [
      "GCD of 10, 15 is: 5\n",
      "GCD of 10, 16 is: 2\n",
      "GCD of 16, 7 is: 1\n",
      "GCD of 15, 16 is: 1\n"
     ]
    }
   ],
   "source": [
    "a =10\n",
    "b = 15\n",
    "c = 16\n",
    "d = 7\n",
    "\n",
    "def gcd(a, b): \n",
    "    if a < b:\n",
    "        s = a\n",
    "        m = b\n",
    "    else:\n",
    "        s = b\n",
    "        m = a\n",
    "    \n",
    "    remainder = m % s\n",
    "    if remainder == 0:\n",
    "        return s\n",
    "    else:\n",
    "        return gcd(remainder, s)\n",
    "\n",
    "print(f\"GCD of {a}, {b} is: {gcd(a, b)}\")\n",
    "print(f\"GCD of {a}, {c} is: {gcd(a, c)}\")\n",
    "print(f\"GCD of {c}, {d} is: {gcd(c, d)}\")\n",
    "print(f\"GCD of {b}, {c} is: {gcd(b, c)}\")\n"
   ]
  },
  {
   "cell_type": "markdown",
   "metadata": {},
   "source": [
    "107. Leap Year Checker: Write a Python function called `is_leap_year` that takes a year as input and returns `True` if it is a leap year and `False` otherwise. Test the function with different years."
   ]
  },
  {
   "cell_type": "code",
   "execution_count": 33,
   "metadata": {},
   "outputs": [
    {
     "name": "stdout",
     "output_type": "stream",
     "text": [
      "2000 is Leap year?: False\n",
      "1995 is Leap year?: False\n",
      "2020 is Leap year?: True\n"
     ]
    }
   ],
   "source": [
    "def is_leap_year(y):\n",
    "    if (y%400) == 0:\n",
    "       return False\n",
    "    elif (y%4) ==0:\n",
    "        return True\n",
    "    else: return False\n",
    "print(f\"2000 is Leap year?: {is_leap_year(2000)}\")\n",
    "print(f\"1995 is Leap year?: {is_leap_year(1995)}\")\n",
    "print(f\"2020 is Leap year?: {is_leap_year(2020)}\")"
   ]
  },
  {
   "cell_type": "markdown",
   "metadata": {},
   "source": [
    "# Nested Functions Problems:"
   ]
  },
  {
   "cell_type": "markdown",
   "metadata": {},
   "source": [
    "108. Math Operations: Write a Python function called `math_operations` that takes three numbers and a string representing an operation (‘add’, ‘subtract’, ‘multiply’, or ‘divide’). The function should return the result of the specified operation on the three numbers. Implement the math operations as nested functions."
   ]
  },
  {
   "cell_type": "code",
   "execution_count": 35,
   "metadata": {},
   "outputs": [
    {
     "name": "stdout",
     "output_type": "stream",
     "text": [
      "Result: 17\n",
      "Result: Error: Division by zero is not allowed\n"
     ]
    }
   ],
   "source": [
    "def math_operations(num1, num2, num3, operation):\n",
    "    def add(a, b, c):\n",
    "        return a + b + c\n",
    "\n",
    "    def subtract(a, b, c):\n",
    "        return a - b - c\n",
    "\n",
    "    def multiply(a, b, c):\n",
    "        return a * b * c\n",
    "\n",
    "    def divide(a, b, c):\n",
    "        if b == 0 or c == 0:\n",
    "            return \"Error: Division by zero is not allowed\"\n",
    "        return a / b / c\n",
    "    \n",
    "    if operation == 'add':\n",
    "        return add(num1, num2, num3)\n",
    "    elif operation == 'subtract':\n",
    "        return subtract(num1, num2, num3)\n",
    "    elif operation == 'multiply':\n",
    "        return multiply(num1, num2, num3)\n",
    "    elif operation == 'divide':\n",
    "        return divide(num1, num2, num3)\n",
    "    else: return \"Invalid Input\"\n",
    "    \n",
    "\n",
    "result = math_operations(10, 5, 2, 'add')\n",
    "print(f\"Result: {result}\")\n",
    "\n",
    "result = math_operations(10, 5, 0, 'divide')\n",
    "print(f\"Result: {result}\")\n"
   ]
  },
  {
   "cell_type": "markdown",
   "metadata": {},
   "source": [
    "109. Greeting Generator: Write a Python function called `greeting_generator` that takes a name as input and returns a greeting message using nested functions. The greeting message should be customizable (e.g., “Hello, {name}! How are you today?”)."
   ]
  },
  {
   "cell_type": "code",
   "execution_count": 37,
   "metadata": {},
   "outputs": [
    {
     "name": "stdout",
     "output_type": "stream",
     "text": [
      "Hello Rashedul! How are you today?\n",
      "Hi Rafid! Nice to meet you.\n",
      "Hey Shaju! How are you doing?\n"
     ]
    }
   ],
   "source": [
    "def greeting_generator(name, greet):\n",
    "    def first(name):\n",
    "        return f\"Hello {name}! How are you today?\"\n",
    "    def second(name):\n",
    "        return f\"Hi {name}! Nice to meet you.\"\n",
    "    def third(name):\n",
    "        return f\"Hey {name}! How are you doing?\"\n",
    "    \n",
    "    if greet == 1:\n",
    "        return first(name)\n",
    "    elif greet == 2:\n",
    "        return second(name)\n",
    "    elif greet == 3:\n",
    "        return third(name)\n",
    "    else: return \"Invalid Input\"\n",
    "\n",
    "print(greeting_generator(\"Rashedul\",1))\n",
    "print(greeting_generator(\"Rafid\",2))\n",
    "print(greeting_generator(\"Shaju\",3))"
   ]
  },
  {
   "cell_type": "markdown",
   "metadata": {},
   "source": [
    "110. Temperature Converter: Write a Python function called `temperature_converter` that takes a temperature value and a string representing the scale (‘C’ for Celsius or ‘F’ for Fahrenheit) as input. The function should convert the temperature from one scale to the other using nested functions and return the converted value."
   ]
  },
  {
   "cell_type": "code",
   "execution_count": 40,
   "metadata": {},
   "outputs": [
    {
     "name": "stdout",
     "output_type": "stream",
     "text": [
      "Temperature in Farenheit is 95.0°F\n",
      "Temperature in Celsius is 37.77777777777778°C\n"
     ]
    }
   ],
   "source": [
    "def temperature_converter(tem, scale):\n",
    "    def f(tem):\n",
    "        return 9*tem/5+32\n",
    "    def c(tem):\n",
    "        return (tem - 32)*(5/9)\n",
    "    if scale == \"C\":\n",
    "        return f\"Temperature in Celsius is {c(tem)}°C\"\n",
    "    elif scale == \"F\":\n",
    "        return f\"Temperature in Farenheit is {f(tem)}°F\"\n",
    "print (temperature_converter(35,'F'))\n",
    "print (temperature_converter(100, 'C'))\n"
   ]
  },
  {
   "cell_type": "markdown",
   "metadata": {},
   "source": [
    "111. Factorial Calculation: Write a recursive Python function called `factorial` that takes a non-negative integer as input and returns its factorial."
   ]
  },
  {
   "cell_type": "code",
   "execution_count": 41,
   "metadata": {},
   "outputs": [
    {
     "name": "stdout",
     "output_type": "stream",
     "text": [
      "Factorial of 7 is:  5040\n"
     ]
    }
   ],
   "source": [
    "n = int(input(\"Input Number: \"))\n",
    "def fact(n):\n",
    "    if n ==0:\n",
    "        return 1\n",
    "    elif n==1:\n",
    "        return 1\n",
    "    else: return fact(n-1)*n\n",
    "\n",
    "print(f\"Factorial of {n} is: \",fact(n))"
   ]
  },
  {
   "cell_type": "markdown",
   "metadata": {},
   "source": [
    "112. Fibonacci Series: Write a recursive Python function called `Fibonacci` that takes an integer N as input and returns the Nth number in the Fibonacci series. The Fibonacci series is defined as follows: F(0) = 0, F(1) = 1, and F(n) = F(n-1) + F(n-2) for n > 1."
   ]
  },
  {
   "cell_type": "code",
   "execution_count": 46,
   "metadata": {},
   "outputs": [
    {
     "name": "stdout",
     "output_type": "stream",
     "text": [
      "Fibonacci series up to 10: 0 1 1 2 3 5 8 13 21 34 55 "
     ]
    }
   ],
   "source": [
    "def Fibonacci(n):\n",
    "    if n == 0:\n",
    "        return 0\n",
    "    if n == 1:\n",
    "        return 1\n",
    "    else:\n",
    "        return Fibonacci(n - 1) + Fibonacci(n - 2)\n",
    "\n",
    "n = int(input(\"Input a number: \"))\n",
    "print(f\"Fibonacci series up to {n}: \", end=\"\")\n",
    "for i in range(n + 1): \n",
    "    print(Fibonacci(i), end=\" \")\n"
   ]
  },
  {
   "cell_type": "markdown",
   "metadata": {},
   "source": [
    "113. The sum of Digits: Write a recursive Python function called `sum_of_digits` that takes an integer as input and returns the sum of its digits."
   ]
  },
  {
   "cell_type": "code",
   "execution_count": 49,
   "metadata": {},
   "outputs": [
    {
     "name": "stdout",
     "output_type": "stream",
     "text": [
      "Sum of digits of 12345 is: 15\n"
     ]
    }
   ],
   "source": [
    "def sum_of_digits(n):\n",
    "    if n == 0: \n",
    "        return 0\n",
    "    else:\n",
    "        return sum_of_digits(n // 10) + (n % 10) \n",
    "\n",
    "n = int(input(\"Enter a number: \"))\n",
    "print(f\"Sum of digits of {n} is: {sum_of_digits(n)}\")\n"
   ]
  },
  {
   "cell_type": "markdown",
   "metadata": {},
   "source": [
    "114. Binary Search: Write a recursive Python function called `binary_search` that takes a sorted list and a target value as input and returns the index of the target value in the list using binary search. If the target value is not in the list, return -1."
   ]
  },
  {
   "cell_type": "code",
   "execution_count": 59,
   "metadata": {},
   "outputs": [
    {
     "name": "stdout",
     "output_type": "stream",
     "text": [
      "45 is Found\n"
     ]
    }
   ],
   "source": [
    "l = [2,4,5,8,10,15,16,17,19,20,21,26,32,40,41,45,50]\n",
    "def binary_search(l,n):\n",
    "    if len(l) == 0:\n",
    "        return f\"{n} is Not Found\"\n",
    "    mid = len(l)//2\n",
    "    if l[mid] == n:\n",
    "        return f\"{n} is Found\"\n",
    "    if l[mid] <n:\n",
    "        return binary_search(l[mid+1:],n)\n",
    "    if l[mid] > n:\n",
    "        return binary_search(l[:mid],n)\n",
    "\n",
    "n = int(input(\"Enter a number to search: \"))\n",
    "print(binary_search(l, n))"
   ]
  },
  {
   "cell_type": "markdown",
   "metadata": {},
   "source": [
    "115. Power Calculation: Write a recursive Python function called `power` that takes two positive integers, base and exponent, as input and returns the value of base raised to the exponent"
   ]
  },
  {
   "cell_type": "code",
   "execution_count": 62,
   "metadata": {},
   "outputs": [
    {
     "name": "stdout",
     "output_type": "stream",
     "text": [
      "3^4 = 81\n"
     ]
    }
   ],
   "source": [
    "def power(base, ex):\n",
    "    if ex == 0:\n",
    "        return 1\n",
    "    else: return power(base, ex-1)*base\n",
    "\n",
    "b = int(input(\"Input base\"))\n",
    "e = int(input(\"Input exponent\"))\n",
    "print(f\"{b}^{e} = {power(b,e)}\")"
   ]
  }
 ],
 "metadata": {
  "kernelspec": {
   "display_name": "Python 3",
   "language": "python",
   "name": "python3"
  },
  "language_info": {
   "codemirror_mode": {
    "name": "ipython",
    "version": 3
   },
   "file_extension": ".py",
   "mimetype": "text/x-python",
   "name": "python",
   "nbconvert_exporter": "python",
   "pygments_lexer": "ipython3",
   "version": "3.12.3"
  }
 },
 "nbformat": 4,
 "nbformat_minor": 2
}
