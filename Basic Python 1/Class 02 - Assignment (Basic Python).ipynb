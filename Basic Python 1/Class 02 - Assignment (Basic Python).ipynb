{
 "cells": [
  {
   "cell_type": "markdown",
   "id": "9818ffc8",
   "metadata": {},
   "source": [
    "# Python Practice Problems"
   ]
  },
  {
   "cell_type": "markdown",
   "id": "92c96f2f",
   "metadata": {},
   "source": [
    "### 1. Find the Largest of Two Numbers\n",
    "**Task:** Given two numbers, find the larger one.  \n",
    "**Demo Input:**  5 and 6 <br>\n",
    "**Output:** 6\n"
   ]
  },
  {
   "cell_type": "code",
   "execution_count": 13,
   "id": "de57d963",
   "metadata": {},
   "outputs": [
    {
     "name": "stdout",
     "output_type": "stream",
     "text": [
      "Both are equal\n"
     ]
    }
   ],
   "source": [
    "a,b = input(\"Input First Number\"), input(\"Enter Second Number\")\n",
    "if a>b:\n",
    "    print(\"Larger Number is: \",a)\n",
    "elif b>a:\n",
    "    print(\"Larger Number is: \",b)\n",
    "else: print(\"Both are equal\")"
   ]
  },
  {
   "cell_type": "markdown",
   "id": "c8c1c683",
   "metadata": {},
   "source": [
    "### 2. Print Numbers from 1 to N\n",
    "**Task**: Given a number `n`, print all numbers from 1 to `n`. <br> \n",
    "**Demo Input**: `5`  <br>\n",
    "**Demo Output**:  1 2 3 4 5\n"
   ]
  },
  {
   "cell_type": "code",
   "execution_count": 17,
   "id": "4f9f4529",
   "metadata": {},
   "outputs": [
    {
     "name": "stdout",
     "output_type": "stream",
     "text": [
      "1 2 3 4 5 6 7 8 9 10 "
     ]
    }
   ],
   "source": [
    "n = int(input(\"Enter number\"))\n",
    "for i in range(n):\n",
    "    print(i+1, end=\" \")"
   ]
  },
  {
   "cell_type": "markdown",
   "id": "899df468",
   "metadata": {},
   "source": [
    "### 3. Check if a Number is Positive or Negative\n",
    "**Task**: Determine if the input number is positive, negative, or zero.  \n",
    "**Demo Input**: `-3`  \n",
    "**Demo Output**: `The number is Negative`"
   ]
  },
  {
   "cell_type": "code",
   "execution_count": 21,
   "id": "56ae285e",
   "metadata": {},
   "outputs": [
    {
     "name": "stdout",
     "output_type": "stream",
     "text": [
      "The Nunber is Positive\n"
     ]
    }
   ],
   "source": [
    "n = float(input(\"Input Number\"))\n",
    "if n>0: print(\"The Nunber is Positive\")\n",
    "elif n<0: print(\"The Nunber is Negative\")\n",
    "else: print(\"The Nunber is Zero\")"
   ]
  },
  {
   "cell_type": "markdown",
   "id": "9d865d12",
   "metadata": {},
   "source": [
    "### 4. Calculate the Sum of Digits\n",
    "**Task**: Given a number, find the sum of its digits.  \n",
    "**Demo Input**: `123`  \n",
    "**Demo Output**: `6`  \n",
    "(Explanation: `1+2+3=6`)"
   ]
  },
  {
   "cell_type": "code",
   "execution_count": 22,
   "id": "c28b2c6c",
   "metadata": {},
   "outputs": [
    {
     "name": "stdout",
     "output_type": "stream",
     "text": [
      "Sum of all digit is:  6\n"
     ]
    }
   ],
   "source": [
    "sum = 0\n",
    "n = input(\"Input Number\")\n",
    "for x in n:\n",
    "    sum += int(x)\n",
    "print(\"Sum of all digit is: \",sum)\n"
   ]
  },
  {
   "cell_type": "markdown",
   "id": "a970046f",
   "metadata": {},
   "source": [
    "### 5. Find Factorial of a Number\n",
    "**Task**: Calculate the factorial of a given number.  \n",
    "**Demo Input**: `4`  \n",
    "**Demo Output**: `24`  \n",
    "(Explanation: `4! = 4*3*2*1 = 24`)"
   ]
  },
  {
   "cell_type": "code",
   "execution_count": 31,
   "id": "fd5966d2",
   "metadata": {},
   "outputs": [
    {
     "name": "stdout",
     "output_type": "stream",
     "text": [
      "Factorial:  120\n"
     ]
    }
   ],
   "source": [
    "n = int(input(\"Input Number: \"))\n",
    "def fact(n):\n",
    "    if n ==0:\n",
    "        return 1\n",
    "    elif n==1:\n",
    "        return 1\n",
    "    else: return fact(n-1)*n\n",
    "\n",
    "print(\"Factorial: \",fact(n))\n"
   ]
  },
  {
   "cell_type": "markdown",
   "id": "c8798099",
   "metadata": {},
   "source": [
    "### 6. Count Occurrences of a Digit\n",
    "**Task**: Count how many times a specific digit appears max in a number.  \n",
    "**Demo Input**:  1233321 <br>\n",
    "**Demo Output**: `3`  <br>\n",
    "(Explanation: `3` appears 3 times in `1233321`)"
   ]
  },
  {
   "cell_type": "code",
   "execution_count": 37,
   "id": "5772f0e6",
   "metadata": {},
   "outputs": [
    {
     "name": "stdout",
     "output_type": "stream",
     "text": [
      "Maximum appeared digit is:  3\n"
     ]
    }
   ],
   "source": [
    "n = input(\"Input number: \")\n",
    "dic = {}\n",
    "for c in n:\n",
    "    if c in dic:\n",
    "        dic[c] += 1\n",
    "    else:\n",
    "        dic[c] = 1\n",
    "max_digit = max(dic, key=dic.get)\n",
    "print (\"Maximum appeared digit is: \", max_digit)"
   ]
  },
  {
   "cell_type": "markdown",
   "id": "b7f985bc",
   "metadata": {},
   "source": [
    "### 7. Find the GCD of Two Numbers\n",
    "**Task**: Find the greatest common divisor (GCD) of two numbers.  \n",
    "**Demo Input**: 8 and 12 <br>\n",
    "**Demo Output**: `4`"
   ]
  },
  {
   "cell_type": "code",
   "execution_count": 46,
   "id": "a467887d",
   "metadata": {},
   "outputs": [
    {
     "name": "stdout",
     "output_type": "stream",
     "text": [
      "Input Two numbers: \n",
      "GCD of 5, 12 is: 1\n"
     ]
    }
   ],
   "source": [
    "print(\"Input Two numbers: \")\n",
    "a = int(input())\n",
    "b = int(input())\n",
    "\n",
    "if a < b:\n",
    "    s = a\n",
    "    m = b\n",
    "else:\n",
    "    s = b\n",
    "    m = a\n",
    "\n",
    "def gcd(s, m):\n",
    "    remainder = m % s\n",
    "    if remainder == 0:\n",
    "        return s\n",
    "    else:\n",
    "        return gcd(remainder, s)\n",
    "\n",
    "print(f\"GCD of {a}, {b} is: {gcd(s, m)}\")\n"
   ]
  },
  {
   "cell_type": "markdown",
   "id": "14c6a2fd",
   "metadata": {},
   "source": [
    "### 8. Reverse a String\n",
    "**Task**: Reverse the given string.  \n",
    "**Demo Input**: `\"aiquest\"`  \n",
    "**Demo Output**: `\"tseuqia\"`"
   ]
  },
  {
   "cell_type": "code",
   "execution_count": 12,
   "id": "bd22e158",
   "metadata": {},
   "outputs": [
    {
     "name": "stdout",
     "output_type": "stream",
     "text": [
      "gfedcba"
     ]
    }
   ],
   "source": [
    "s = input(\"Input a string: \")\n",
    "l = len(s)\n",
    "for i in range(l-1, -1,-1):\n",
    "    print(s[i], end=\"\")"
   ]
  },
  {
   "cell_type": "markdown",
   "id": "88317dfd",
   "metadata": {},
   "source": [
    "### 9. Check Armstrong Number\n",
    "**Task**: Check if a number is an Armstrong number (the sum of its digits raised to the power of the number of digits equals the number).  \n",
    "**Demo Input**: `153`  \n",
    "**Demo Output**: `153 is an Armstrong Number`  \n",
    "(Explanation: \\(1^3 + 5^3 + 3^3 = 153\\))"
   ]
  },
  {
   "cell_type": "code",
   "execution_count": 19,
   "id": "2602ff94",
   "metadata": {},
   "outputs": [
    {
     "name": "stdout",
     "output_type": "stream",
     "text": [
      "410 is not a Armstrong Number\n"
     ]
    }
   ],
   "source": [
    "n = input(\"Input Number: \")\n",
    "l = len(n)\n",
    "addition = 0\n",
    "\n",
    "for x in n:\n",
    "    addition = addition + int(x)**l\n",
    "if int(n) == addition:\n",
    "    print(f\"{n} is a Armstrong Number\")\n",
    "else:   print(f\"{n} is not a Armstrong Number\")"
   ]
  },
  {
   "cell_type": "markdown",
   "id": "0905a3cc",
   "metadata": {},
   "source": [
    "### 10. Generate a Pattern\n",
    "**Task**: Print a pyramid pattern with `n` rows.  \n",
    "**Demo input:** 4 <br>\n",
    "**Output:** You will see the pyramid pattern with 4 rows"
   ]
  },
  {
   "cell_type": "code",
   "execution_count": 41,
   "id": "83d8b483",
   "metadata": {},
   "outputs": [
    {
     "name": "stdout",
     "output_type": "stream",
     "text": [
      "\n",
      "          * \n",
      "         * * \n",
      "        * * * \n",
      "       * * * * \n",
      "      * * * * * \n",
      "     * * * * * * \n",
      "    * * * * * * * \n",
      "   * * * * * * * * \n",
      "  * * * * * * * * * \n",
      " * * * * * * * * * * "
     ]
    }
   ],
   "source": [
    "n=int(input(\"Input Number: \"))\n",
    "for i in range (n):\n",
    "    print()\n",
    "    for j in range(n-i):\n",
    "        print(end=\" \")\n",
    "    for j in range(i+1):\n",
    "       \n",
    "\n",
    "        print(\"*\", end=\" \")"
   ]
  },
  {
   "cell_type": "markdown",
   "id": "ec723917",
   "metadata": {},
   "source": [
    "# Good Luck!"
   ]
  }
 ],
 "metadata": {
  "kernelspec": {
   "display_name": "Python 3",
   "language": "python",
   "name": "python3"
  },
  "language_info": {
   "codemirror_mode": {
    "name": "ipython",
    "version": 3
   },
   "file_extension": ".py",
   "mimetype": "text/x-python",
   "name": "python",
   "nbconvert_exporter": "python",
   "pygments_lexer": "ipython3",
   "version": "3.12.3"
  }
 },
 "nbformat": 4,
 "nbformat_minor": 5
}
